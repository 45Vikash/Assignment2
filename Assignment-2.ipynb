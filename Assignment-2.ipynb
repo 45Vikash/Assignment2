{
 "cells": [
  {
   "cell_type": "code",
   "execution_count": null,
   "id": "dd4ca560",
   "metadata": {},
   "outputs": [],
   "source": [
    "#Q1: Write a python program to scrape data for “Data Analyst” Job position in “Bangalore” location. You \n",
    "#have to scrape the job-title, job-location, company_name, experience_required. You have to scrape first 10 \n",
    "#jobs data.\n",
    "#This task will be done in following steps:\n",
    "#1. First get the webpage https://www.naukri.com/\n",
    "#2. Enter “Data Analyst” in “Skill, Designations, Companies” field and enter “Bangalore” in “enter the\n",
    "#location” field.\n",
    "#3. Then click the search button.\n",
    "#4. Then scrape the data for the first 10 jobs results you get.\n",
    "#5. Finally create a dataframe of the scraped data.\n",
    "#Note: All of the above steps have to be done in code. No step is to be done manually."
   ]
  },
  {
   "cell_type": "code",
   "execution_count": 1,
   "id": "ddedff26",
   "metadata": {},
   "outputs": [
    {
     "name": "stdout",
     "output_type": "stream",
     "text": [
      "Requirement already satisfied: selenium in c:\\programdata\\anaconda3\\lib\\site-packages (4.2.0)\n",
      "Requirement already satisfied: urllib3[secure,socks]~=1.26 in c:\\programdata\\anaconda3\\lib\\site-packages (from selenium) (1.26.7)\n",
      "Requirement already satisfied: trio~=0.17 in c:\\programdata\\anaconda3\\lib\\site-packages (from selenium) (0.21.0)\n",
      "Requirement already satisfied: trio-websocket~=0.9 in c:\\programdata\\anaconda3\\lib\\site-packages (from selenium) (0.9.2)\n",
      "Requirement already satisfied: idna in c:\\programdata\\anaconda3\\lib\\site-packages (from trio~=0.17->selenium) (3.2)\n",
      "Requirement already satisfied: outcome in c:\\programdata\\anaconda3\\lib\\site-packages (from trio~=0.17->selenium) (1.2.0)\n",
      "Requirement already satisfied: sortedcontainers in c:\\programdata\\anaconda3\\lib\\site-packages (from trio~=0.17->selenium) (2.4.0)\n",
      "Requirement already satisfied: attrs>=19.2.0 in c:\\programdata\\anaconda3\\lib\\site-packages (from trio~=0.17->selenium) (21.2.0)\n",
      "Requirement already satisfied: async-generator>=1.9 in c:\\programdata\\anaconda3\\lib\\site-packages (from trio~=0.17->selenium) (1.10)\n",
      "Requirement already satisfied: sniffio in c:\\programdata\\anaconda3\\lib\\site-packages (from trio~=0.17->selenium) (1.2.0)\n",
      "Requirement already satisfied: cffi>=1.14 in c:\\programdata\\anaconda3\\lib\\site-packages (from trio~=0.17->selenium) (1.14.6)\n",
      "Requirement already satisfied: pycparser in c:\\programdata\\anaconda3\\lib\\site-packages (from cffi>=1.14->trio~=0.17->selenium) (2.20)\n",
      "Requirement already satisfied: wsproto>=0.14 in c:\\programdata\\anaconda3\\lib\\site-packages (from trio-websocket~=0.9->selenium) (1.1.0)\n",
      "Requirement already satisfied: PySocks!=1.5.7,<2.0,>=1.5.6 in c:\\programdata\\anaconda3\\lib\\site-packages (from urllib3[secure,socks]~=1.26->selenium) (1.7.1)\n",
      "Requirement already satisfied: pyOpenSSL>=0.14 in c:\\programdata\\anaconda3\\lib\\site-packages (from urllib3[secure,socks]~=1.26->selenium) (21.0.0)\n",
      "Requirement already satisfied: cryptography>=1.3.4 in c:\\programdata\\anaconda3\\lib\\site-packages (from urllib3[secure,socks]~=1.26->selenium) (3.4.8)\n",
      "Requirement already satisfied: certifi in c:\\programdata\\anaconda3\\lib\\site-packages (from urllib3[secure,socks]~=1.26->selenium) (2021.10.8)\n",
      "Requirement already satisfied: six>=1.5.2 in c:\\programdata\\anaconda3\\lib\\site-packages (from pyOpenSSL>=0.14->urllib3[secure,socks]~=1.26->selenium) (1.16.0)\n",
      "Requirement already satisfied: h11<1,>=0.9.0 in c:\\programdata\\anaconda3\\lib\\site-packages (from wsproto>=0.14->trio-websocket~=0.9->selenium) (0.13.0)\n"
     ]
    }
   ],
   "source": [
    "#lests first install the selenium library\n",
    "!pip install selenium"
   ]
  },
  {
   "cell_type": "code",
   "execution_count": 2,
   "id": "d275b2cc",
   "metadata": {},
   "outputs": [],
   "source": [
    "import selenium # to use selenium library\n",
    "import pandas as pd # install pandas library for DataFrame\n",
    "from selenium import webdriver # to open with automated chrome window\n",
    "import warnings \n",
    "warnings.filterwarnings('ignore') # to ingnore any sort of warnings\n",
    "import time # use to stop search engine for few seconds"
   ]
  },
  {
   "cell_type": "code",
   "execution_count": 3,
   "id": "637c7877",
   "metadata": {},
   "outputs": [],
   "source": [
    "# lets first connect to the web driver\n",
    "driver=webdriver.Chrome(r\"C:\\Users\\Vikash_info\\chromedriver.exe\")"
   ]
  },
  {
   "cell_type": "code",
   "execution_count": 4,
   "id": "411734b4",
   "metadata": {},
   "outputs": [],
   "source": [
    "driver=webdriver.Chrome('chromedriver.exe')\n",
    "time.sleep(2)"
   ]
  },
  {
   "cell_type": "code",
   "execution_count": 5,
   "id": "28053404",
   "metadata": {},
   "outputs": [],
   "source": [
    "#scarping up naukri.com on automated web drive\n",
    "driver.get(\"https://www.naukri.com/\")"
   ]
  },
  {
   "cell_type": "code",
   "execution_count": 6,
   "id": "f9610011",
   "metadata": {},
   "outputs": [],
   "source": [
    "# finding element job search for\n",
    "search_field_designation=driver.find_element_by_class_name('suggestor-input') #job search for\n",
    "search_field_designation.send_keys('Data Analyst')"
   ]
  },
  {
   "cell_type": "code",
   "execution_count": 7,
   "id": "b9f66de9",
   "metadata": {},
   "outputs": [],
   "source": [
    "# entering location delhi in loaction search for\n",
    "search_field_loc=driver.find_element_by_class_name('suggestor-input') #job search for\n",
    "search_field_loc.send_keys('Banglore')"
   ]
  },
  {
   "cell_type": "code",
   "execution_count": 8,
   "id": "3869b0fb",
   "metadata": {},
   "outputs": [],
   "source": [
    "search_button=driver.find_element_by_xpath(\"/html/body/div[1]/div[2]/div[3]/div/div/div[6]\")\n",
    "search_button.click()"
   ]
  },
  {
   "cell_type": "code",
   "execution_count": 19,
   "id": "1865a18f",
   "metadata": {},
   "outputs": [],
   "source": [
    "job_titles=[]\n",
    "company_names=[]\n",
    "location_lists=[]"
   ]
  },
  {
   "cell_type": "code",
   "execution_count": 20,
   "id": "0abdc8bd",
   "metadata": {},
   "outputs": [
    {
     "data": {
      "text/plain": [
       "[<selenium.webdriver.remote.webelement.WebElement (session=\"1c01ad351bb27f3ff00336bcd2975982\", element=\"d3e1483c-ab6f-42c4-974e-4982318231fa\")>,\n",
       " <selenium.webdriver.remote.webelement.WebElement (session=\"1c01ad351bb27f3ff00336bcd2975982\", element=\"c425f53d-82f7-46b8-ba20-c476aae79de4\")>,\n",
       " <selenium.webdriver.remote.webelement.WebElement (session=\"1c01ad351bb27f3ff00336bcd2975982\", element=\"ff6d5cd7-4f5a-45e3-b659-90a54a77d218\")>,\n",
       " <selenium.webdriver.remote.webelement.WebElement (session=\"1c01ad351bb27f3ff00336bcd2975982\", element=\"a25197ae-d9ca-4db0-babc-2deaacbd4e5c\")>,\n",
       " <selenium.webdriver.remote.webelement.WebElement (session=\"1c01ad351bb27f3ff00336bcd2975982\", element=\"d4d52207-d993-4813-a089-421dd234d077\")>,\n",
       " <selenium.webdriver.remote.webelement.WebElement (session=\"1c01ad351bb27f3ff00336bcd2975982\", element=\"4f2faa20-65d2-4e8e-aaec-b37731785120\")>,\n",
       " <selenium.webdriver.remote.webelement.WebElement (session=\"1c01ad351bb27f3ff00336bcd2975982\", element=\"e4344cd2-9fed-4fe0-b71d-47d6d4ed130e\")>,\n",
       " <selenium.webdriver.remote.webelement.WebElement (session=\"1c01ad351bb27f3ff00336bcd2975982\", element=\"50e4af1c-2de1-4cee-998d-027b025d2c6b\")>,\n",
       " <selenium.webdriver.remote.webelement.WebElement (session=\"1c01ad351bb27f3ff00336bcd2975982\", element=\"9f2b38e9-394c-4305-9fd1-b864c753b078\")>,\n",
       " <selenium.webdriver.remote.webelement.WebElement (session=\"1c01ad351bb27f3ff00336bcd2975982\", element=\"a0bcc2ce-0684-4a4c-b1c2-7d65961ecf22\")>]"
      ]
     },
     "execution_count": 20,
     "metadata": {},
     "output_type": "execute_result"
    }
   ],
   "source": [
    "#so lets extract all tags having the job titles\n",
    "titles_tags=driver.find_elements_by_xpath(\"//a[@class='title fw500 ellipsis']\")\n",
    "titles_tags[0:10]"
   ]
  },
  {
   "cell_type": "code",
   "execution_count": 21,
   "id": "836ac261",
   "metadata": {},
   "outputs": [
    {
     "data": {
      "text/plain": [
       "['Sr.Business Data Analyst',\n",
       " 'Senior Data Analyst',\n",
       " 'Master Data Management Business Analyst',\n",
       " 'Sr Data Analyst',\n",
       " 'Data Analyst - IIM/ISB/MDI/FMS/SP Jain',\n",
       " 'Business Analyst/Data Analyst',\n",
       " 'Hiring For Data Analyst',\n",
       " 'Data Analyst',\n",
       " 'Data Analyst/Senior Data Analyst',\n",
       " 'Senior Data Analysis Analyst']"
      ]
     },
     "execution_count": 21,
     "metadata": {},
     "output_type": "execute_result"
    }
   ],
   "source": [
    "#we run a loop extracted over the tags\n",
    "for i in titles_tags:        #iterating over web element of title\n",
    "    title=i.text             #extracting text from web each element\n",
    "    job_titles.append(title) # appending each extected text into empty list\n",
    "job_titles[0:10]  #printing top 10 job titles"
   ]
  },
  {
   "cell_type": "code",
   "execution_count": 22,
   "id": "5c09bbdd",
   "metadata": {},
   "outputs": [
    {
     "data": {
      "text/plain": [
       "[<selenium.webdriver.remote.webelement.WebElement (session=\"1c01ad351bb27f3ff00336bcd2975982\", element=\"cf698ff5-532e-4ecc-89c8-df2313d74ddb\")>,\n",
       " <selenium.webdriver.remote.webelement.WebElement (session=\"1c01ad351bb27f3ff00336bcd2975982\", element=\"69e86cdf-9302-4bae-bad3-664f32f87b00\")>,\n",
       " <selenium.webdriver.remote.webelement.WebElement (session=\"1c01ad351bb27f3ff00336bcd2975982\", element=\"5f51d64f-6025-44b0-8a38-00abaa8ee81a\")>,\n",
       " <selenium.webdriver.remote.webelement.WebElement (session=\"1c01ad351bb27f3ff00336bcd2975982\", element=\"c7561b92-c8cd-4312-8fc6-cabcb4fba0b5\")>,\n",
       " <selenium.webdriver.remote.webelement.WebElement (session=\"1c01ad351bb27f3ff00336bcd2975982\", element=\"3dfa4a4d-95da-4fae-b4b3-3cb5f379dddc\")>,\n",
       " <selenium.webdriver.remote.webelement.WebElement (session=\"1c01ad351bb27f3ff00336bcd2975982\", element=\"5874cc9f-cde7-4710-9f38-dfb2ed7bda1a\")>,\n",
       " <selenium.webdriver.remote.webelement.WebElement (session=\"1c01ad351bb27f3ff00336bcd2975982\", element=\"59008b9a-aba8-4a2e-9778-141fc2704d0b\")>,\n",
       " <selenium.webdriver.remote.webelement.WebElement (session=\"1c01ad351bb27f3ff00336bcd2975982\", element=\"f6418e79-026d-49fd-b8c6-792f77e0ddfd\")>,\n",
       " <selenium.webdriver.remote.webelement.WebElement (session=\"1c01ad351bb27f3ff00336bcd2975982\", element=\"f0cad123-2a62-46c5-90e7-346bd35fdc6d\")>,\n",
       " <selenium.webdriver.remote.webelement.WebElement (session=\"1c01ad351bb27f3ff00336bcd2975982\", element=\"d86f21af-c49d-47c4-ae72-00a311737aef\")>]"
      ]
     },
     "execution_count": 22,
     "metadata": {},
     "output_type": "execute_result"
    }
   ],
   "source": [
    "# now let me extract all the tags having company names\n",
    "companies_tags=driver.find_elements_by_xpath(\"//a[@class='subTitle ellipsis fleft']\")\n",
    "companies_tags[0:10]"
   ]
  },
  {
   "cell_type": "code",
   "execution_count": 23,
   "id": "2b4df896",
   "metadata": {},
   "outputs": [
    {
     "data": {
      "text/plain": [
       "['Collabera',\n",
       " 'Hudsons bay Company (HBC)',\n",
       " 'Accenture',\n",
       " 'Thomson Reuters',\n",
       " 'K12 Techno Services Pvt Ltd',\n",
       " 'Telamon HR Solutions',\n",
       " 'Flipkart',\n",
       " 'Wipro',\n",
       " 'Meesho',\n",
       " 'Capco']"
      ]
     },
     "execution_count": 23,
     "metadata": {},
     "output_type": "execute_result"
    }
   ],
   "source": [
    "for i in companies_tags:  #iterating over web element of company\n",
    "    company_name=i.text   #extracting text from web each element\n",
    "    company_names.append(company_name)   #appending each extected text into empty list\n",
    "company_names[0:10]  #printing top 10 company names"
   ]
  },
  {
   "cell_type": "code",
   "execution_count": 24,
   "id": "9c94c21b",
   "metadata": {},
   "outputs": [
    {
     "data": {
      "text/plain": [
       "[<selenium.webdriver.remote.webelement.WebElement (session=\"1c01ad351bb27f3ff00336bcd2975982\", element=\"c80211b3-07b5-4e1b-8255-1eea14d998d1\")>,\n",
       " <selenium.webdriver.remote.webelement.WebElement (session=\"1c01ad351bb27f3ff00336bcd2975982\", element=\"6f051d4b-1806-435c-a3d8-75479c4575fb\")>,\n",
       " <selenium.webdriver.remote.webelement.WebElement (session=\"1c01ad351bb27f3ff00336bcd2975982\", element=\"2dccb94a-c658-4a8a-b10e-aec930654e96\")>,\n",
       " <selenium.webdriver.remote.webelement.WebElement (session=\"1c01ad351bb27f3ff00336bcd2975982\", element=\"0a53f217-1c86-4ba6-96be-52a8ce59b188\")>,\n",
       " <selenium.webdriver.remote.webelement.WebElement (session=\"1c01ad351bb27f3ff00336bcd2975982\", element=\"09379440-349f-4965-9648-dba8452bab40\")>,\n",
       " <selenium.webdriver.remote.webelement.WebElement (session=\"1c01ad351bb27f3ff00336bcd2975982\", element=\"3e16d205-98d3-4160-9667-204b19495ca8\")>,\n",
       " <selenium.webdriver.remote.webelement.WebElement (session=\"1c01ad351bb27f3ff00336bcd2975982\", element=\"12165d0d-fb38-4a3b-a6c5-5389e550a537\")>,\n",
       " <selenium.webdriver.remote.webelement.WebElement (session=\"1c01ad351bb27f3ff00336bcd2975982\", element=\"d0467313-6fd9-4943-9eed-9a749c552fd4\")>,\n",
       " <selenium.webdriver.remote.webelement.WebElement (session=\"1c01ad351bb27f3ff00336bcd2975982\", element=\"6cd8eca9-7c9b-41a0-aeb7-743bfcab626a\")>,\n",
       " <selenium.webdriver.remote.webelement.WebElement (session=\"1c01ad351bb27f3ff00336bcd2975982\", element=\"ab7df078-2fa3-4c26-9c79-3eb049825ff2\")>]"
      ]
     },
     "execution_count": 24,
     "metadata": {},
     "output_type": "execute_result"
    }
   ],
   "source": [
    "# now lets  extract all the tags having location lists\n",
    "locations_tags=driver.find_elements_by_xpath(\"//li[@class='fleft grey-text br2 placeHolderLi location']/span[1]\")\n",
    "locations_tags[0:10]"
   ]
  },
  {
   "cell_type": "code",
   "execution_count": 26,
   "id": "41a575e4",
   "metadata": {},
   "outputs": [
    {
     "data": {
      "text/plain": [
       "['Bangalore/Bengaluru, karnataka',\n",
       " 'Bangalore/Bengaluru',\n",
       " 'Bangalore/Bengaluru',\n",
       " 'Bangalore/Bengaluru',\n",
       " 'Bangalore/Bengaluru',\n",
       " 'Hyderabad/Secunderabad, Bangalore/Bengaluru, Delhi / NCR',\n",
       " 'Bangalore/Bengaluru',\n",
       " 'Noida, Hyderabad/Secunderabad, Gurgaon/Gurugram, Chennai, Bangalore/Bengaluru, Mumbai (All Areas), Pune',\n",
       " 'Bangalore/Bengaluru',\n",
       " 'Pune, Chennai, Bangalore/Bengaluru']"
      ]
     },
     "execution_count": 26,
     "metadata": {},
     "output_type": "execute_result"
    }
   ],
   "source": [
    "for i in locations_tags:  #iterating over web element of location\n",
    "    location=i.text       #extracting text web of each element\n",
    "    location_lists.append(location) # appending each extracted text into empty list\n",
    "location_lists[0:10]"
   ]
  },
  {
   "cell_type": "code",
   "execution_count": 29,
   "id": "07557e89",
   "metadata": {},
   "outputs": [
    {
     "name": "stdout",
     "output_type": "stream",
     "text": [
      "20 20 20\n"
     ]
    }
   ],
   "source": [
    "print(len(job_titles),len(company_names),len(location_lists))"
   ]
  },
  {
   "cell_type": "code",
   "execution_count": 30,
   "id": "86730c5f",
   "metadata": {},
   "outputs": [
    {
     "data": {
      "text/html": [
       "<div>\n",
       "<style scoped>\n",
       "    .dataframe tbody tr th:only-of-type {\n",
       "        vertical-align: middle;\n",
       "    }\n",
       "\n",
       "    .dataframe tbody tr th {\n",
       "        vertical-align: top;\n",
       "    }\n",
       "\n",
       "    .dataframe thead th {\n",
       "        text-align: right;\n",
       "    }\n",
       "</style>\n",
       "<table border=\"1\" class=\"dataframe\">\n",
       "  <thead>\n",
       "    <tr style=\"text-align: right;\">\n",
       "      <th></th>\n",
       "      <th>Job_titles</th>\n",
       "      <th>Company_names</th>\n",
       "      <th>location_lists</th>\n",
       "    </tr>\n",
       "  </thead>\n",
       "  <tbody>\n",
       "    <tr>\n",
       "      <th>0</th>\n",
       "      <td>Sr.Business Data Analyst</td>\n",
       "      <td>Collabera</td>\n",
       "      <td>Bangalore/Bengaluru, karnataka</td>\n",
       "    </tr>\n",
       "    <tr>\n",
       "      <th>1</th>\n",
       "      <td>Senior Data Analyst</td>\n",
       "      <td>Hudsons bay Company (HBC)</td>\n",
       "      <td>Bangalore/Bengaluru</td>\n",
       "    </tr>\n",
       "    <tr>\n",
       "      <th>2</th>\n",
       "      <td>Master Data Management Business Analyst</td>\n",
       "      <td>Accenture</td>\n",
       "      <td>Bangalore/Bengaluru</td>\n",
       "    </tr>\n",
       "    <tr>\n",
       "      <th>3</th>\n",
       "      <td>Sr Data Analyst</td>\n",
       "      <td>Thomson Reuters</td>\n",
       "      <td>Bangalore/Bengaluru</td>\n",
       "    </tr>\n",
       "    <tr>\n",
       "      <th>4</th>\n",
       "      <td>Data Analyst - IIM/ISB/MDI/FMS/SP Jain</td>\n",
       "      <td>K12 Techno Services Pvt Ltd</td>\n",
       "      <td>Bangalore/Bengaluru</td>\n",
       "    </tr>\n",
       "    <tr>\n",
       "      <th>5</th>\n",
       "      <td>Business Analyst/Data Analyst</td>\n",
       "      <td>Telamon HR Solutions</td>\n",
       "      <td>Hyderabad/Secunderabad, Bangalore/Bengaluru, D...</td>\n",
       "    </tr>\n",
       "    <tr>\n",
       "      <th>6</th>\n",
       "      <td>Hiring For Data Analyst</td>\n",
       "      <td>Flipkart</td>\n",
       "      <td>Bangalore/Bengaluru</td>\n",
       "    </tr>\n",
       "    <tr>\n",
       "      <th>7</th>\n",
       "      <td>Data Analyst</td>\n",
       "      <td>Wipro</td>\n",
       "      <td>Noida, Hyderabad/Secunderabad, Gurgaon/Gurugra...</td>\n",
       "    </tr>\n",
       "    <tr>\n",
       "      <th>8</th>\n",
       "      <td>Data Analyst/Senior Data Analyst</td>\n",
       "      <td>Meesho</td>\n",
       "      <td>Bangalore/Bengaluru</td>\n",
       "    </tr>\n",
       "    <tr>\n",
       "      <th>9</th>\n",
       "      <td>Senior Data Analysis Analyst</td>\n",
       "      <td>Capco</td>\n",
       "      <td>Pune, Chennai, Bangalore/Bengaluru</td>\n",
       "    </tr>\n",
       "    <tr>\n",
       "      <th>10</th>\n",
       "      <td>Data Analyst - Python/Artificial Intelligence</td>\n",
       "      <td>iMindYourBusiness</td>\n",
       "      <td>Kolkata, Mumbai, Hyderabad/Secunderabad, Pune,...</td>\n",
       "    </tr>\n",
       "    <tr>\n",
       "      <th>11</th>\n",
       "      <td>Data Analyst - Python/SQL</td>\n",
       "      <td>Affine</td>\n",
       "      <td>Bangalore/Bengaluru</td>\n",
       "    </tr>\n",
       "    <tr>\n",
       "      <th>12</th>\n",
       "      <td>Data Analyst - IT</td>\n",
       "      <td>Yespired</td>\n",
       "      <td>Bangalore/Bengaluru</td>\n",
       "    </tr>\n",
       "    <tr>\n",
       "      <th>13</th>\n",
       "      <td>Performance Data Analyst</td>\n",
       "      <td>Fluence</td>\n",
       "      <td>Bangalore/Bengaluru</td>\n",
       "    </tr>\n",
       "    <tr>\n",
       "      <th>14</th>\n",
       "      <td>Data Analyst - CRM Platform</td>\n",
       "      <td>Artech infosystem</td>\n",
       "      <td>Mumbai, Hyderabad/Secunderabad, Pune, Chennai,...</td>\n",
       "    </tr>\n",
       "    <tr>\n",
       "      <th>15</th>\n",
       "      <td>Data Analyst</td>\n",
       "      <td>Thomson Reuters</td>\n",
       "      <td>Bangalore/Bengaluru</td>\n",
       "    </tr>\n",
       "    <tr>\n",
       "      <th>16</th>\n",
       "      <td>Senior Data Analyst</td>\n",
       "      <td>KrazyBee</td>\n",
       "      <td>Bangalore/Bengaluru(Old Madras Road)</td>\n",
       "    </tr>\n",
       "    <tr>\n",
       "      <th>17</th>\n",
       "      <td>Sr. Data Operations Analyst</td>\n",
       "      <td>SVB Global Services India LLP</td>\n",
       "      <td>Bangalore/Bengaluru</td>\n",
       "    </tr>\n",
       "    <tr>\n",
       "      <th>18</th>\n",
       "      <td>Data Analyst / Data Source Engineer - SOQL/SOSL</td>\n",
       "      <td>Talent Placers</td>\n",
       "      <td>Bangalore/Bengaluru</td>\n",
       "    </tr>\n",
       "    <tr>\n",
       "      <th>19</th>\n",
       "      <td>Data Analyst</td>\n",
       "      <td>RGBSI</td>\n",
       "      <td>Hyderabad/Secunderabad, Chennai, Bangalore/Ben...</td>\n",
       "    </tr>\n",
       "  </tbody>\n",
       "</table>\n",
       "</div>"
      ],
      "text/plain": [
       "                                         Job_titles  \\\n",
       "0                          Sr.Business Data Analyst   \n",
       "1                               Senior Data Analyst   \n",
       "2           Master Data Management Business Analyst   \n",
       "3                                   Sr Data Analyst   \n",
       "4            Data Analyst - IIM/ISB/MDI/FMS/SP Jain   \n",
       "5                     Business Analyst/Data Analyst   \n",
       "6                           Hiring For Data Analyst   \n",
       "7                                      Data Analyst   \n",
       "8                  Data Analyst/Senior Data Analyst   \n",
       "9                      Senior Data Analysis Analyst   \n",
       "10    Data Analyst - Python/Artificial Intelligence   \n",
       "11                        Data Analyst - Python/SQL   \n",
       "12                                Data Analyst - IT   \n",
       "13                         Performance Data Analyst   \n",
       "14                      Data Analyst - CRM Platform   \n",
       "15                                     Data Analyst   \n",
       "16                              Senior Data Analyst   \n",
       "17                      Sr. Data Operations Analyst   \n",
       "18  Data Analyst / Data Source Engineer - SOQL/SOSL   \n",
       "19                                     Data Analyst   \n",
       "\n",
       "                    Company_names  \\\n",
       "0                       Collabera   \n",
       "1       Hudsons bay Company (HBC)   \n",
       "2                       Accenture   \n",
       "3                 Thomson Reuters   \n",
       "4     K12 Techno Services Pvt Ltd   \n",
       "5            Telamon HR Solutions   \n",
       "6                        Flipkart   \n",
       "7                           Wipro   \n",
       "8                          Meesho   \n",
       "9                           Capco   \n",
       "10              iMindYourBusiness   \n",
       "11                         Affine   \n",
       "12                       Yespired   \n",
       "13                        Fluence   \n",
       "14              Artech infosystem   \n",
       "15                Thomson Reuters   \n",
       "16                       KrazyBee   \n",
       "17  SVB Global Services India LLP   \n",
       "18                 Talent Placers   \n",
       "19                          RGBSI   \n",
       "\n",
       "                                       location_lists  \n",
       "0                      Bangalore/Bengaluru, karnataka  \n",
       "1                                 Bangalore/Bengaluru  \n",
       "2                                 Bangalore/Bengaluru  \n",
       "3                                 Bangalore/Bengaluru  \n",
       "4                                 Bangalore/Bengaluru  \n",
       "5   Hyderabad/Secunderabad, Bangalore/Bengaluru, D...  \n",
       "6                                 Bangalore/Bengaluru  \n",
       "7   Noida, Hyderabad/Secunderabad, Gurgaon/Gurugra...  \n",
       "8                                 Bangalore/Bengaluru  \n",
       "9                  Pune, Chennai, Bangalore/Bengaluru  \n",
       "10  Kolkata, Mumbai, Hyderabad/Secunderabad, Pune,...  \n",
       "11                                Bangalore/Bengaluru  \n",
       "12                                Bangalore/Bengaluru  \n",
       "13                                Bangalore/Bengaluru  \n",
       "14  Mumbai, Hyderabad/Secunderabad, Pune, Chennai,...  \n",
       "15                                Bangalore/Bengaluru  \n",
       "16               Bangalore/Bengaluru(Old Madras Road)  \n",
       "17                                Bangalore/Bengaluru  \n",
       "18                                Bangalore/Bengaluru  \n",
       "19  Hyderabad/Secunderabad, Chennai, Bangalore/Ben...  "
      ]
     },
     "execution_count": 30,
     "metadata": {},
     "output_type": "execute_result"
    }
   ],
   "source": [
    "# now make a Data frame\n",
    "df=pd.DataFrame({'Job_titles':job_titles,'Company_names':company_names,'location_lists':location_lists})\n",
    "df"
   ]
  },
  {
   "cell_type": "code",
   "execution_count": null,
   "id": "a11e6a38",
   "metadata": {},
   "outputs": [],
   "source": [
    "#Q2: Write a python program to scrape data for “Data Scientist” Job position in “Bangalore” location. You \n",
    "#have to scrape the job-title, job-location, company_name. You have to scrape first 10 jobs data.\n",
    "#This task will be done in following steps:\n",
    "#1. First get the webpage https://www.naukri.com/\n",
    "#2. Enter “Data Scientist” in “Skill, Designations, Companies” field and enter “Bangalore” in “enter the\n",
    "#location” field.\n",
    "#3. Then click the search button.\n",
    "#4. Then scrape the data for the first 10 jobs results you get.\n",
    "#5. Finally create a dataframe of the scraped data.\n",
    "#Note: All of the above steps have to be done in code. No step is to be done manuall"
   ]
  },
  {
   "cell_type": "code",
   "execution_count": 32,
   "id": "3ec0e236",
   "metadata": {},
   "outputs": [],
   "source": [
    "#lets connect to web driver\n",
    "driver=webdriver.Chrome(r\"C:\\Users\\Vikash_info\\chromedriver.exe\")\n"
   ]
  },
  {
   "cell_type": "code",
   "execution_count": 33,
   "id": "0ce6b4c5",
   "metadata": {},
   "outputs": [],
   "source": [
    "driver=webdriver.Chrome(\"chromedriver.exe\")\n",
    "time.sleep(2)"
   ]
  },
  {
   "cell_type": "code",
   "execution_count": 34,
   "id": "2f84cd59",
   "metadata": {},
   "outputs": [],
   "source": [
    "#lets scraping up naukari.com with automated web driver\n",
    "driver.get(\"https://www.naukri.com/\")"
   ]
  },
  {
   "cell_type": "code",
   "execution_count": 35,
   "id": "0f48657f",
   "metadata": {},
   "outputs": [],
   "source": [
    "#finding element job search for\n",
    "search_field_designation=driver.find_element_by_class_name(\"suggestor-input \") # job search for\n",
    "search_field_designation.send_keys('Data Scientist')"
   ]
  },
  {
   "cell_type": "code",
   "execution_count": 37,
   "id": "20174ac3",
   "metadata": {},
   "outputs": [],
   "source": [
    "# entering job location for Banglore location\n",
    "search_field_loc=driver.find_element_by_class_name(\"suggestor-input\") #job search for\n",
    "search_field_loc.send_keys(\"Banglore\")"
   ]
  },
  {
   "cell_type": "code",
   "execution_count": 39,
   "id": "38b4dbad",
   "metadata": {},
   "outputs": [],
   "source": [
    "search_button=driver.find_element_by_xpath(\"/html/body/div[1]/div[2]/div[3]/div/div/div[6]\")\n",
    "search_button.click()"
   ]
  },
  {
   "cell_type": "code",
   "execution_count": 45,
   "id": "821def9d",
   "metadata": {},
   "outputs": [],
   "source": [
    "jobs_titles=[]\n",
    "company_names=[]\n",
    "location_lists=[]"
   ]
  },
  {
   "cell_type": "code",
   "execution_count": 46,
   "id": "ea195e64",
   "metadata": {},
   "outputs": [
    {
     "data": {
      "text/plain": [
       "[<selenium.webdriver.remote.webelement.WebElement (session=\"bed7921dac56d58f82e5f11c6f35ec89\", element=\"e1145bc6-de6d-40f0-8a32-cc773f581ed9\")>,\n",
       " <selenium.webdriver.remote.webelement.WebElement (session=\"bed7921dac56d58f82e5f11c6f35ec89\", element=\"336a4365-5ea2-4d87-9f28-3e0489386ff1\")>,\n",
       " <selenium.webdriver.remote.webelement.WebElement (session=\"bed7921dac56d58f82e5f11c6f35ec89\", element=\"c12d3f22-1379-44a8-8d5c-085c8470cd49\")>,\n",
       " <selenium.webdriver.remote.webelement.WebElement (session=\"bed7921dac56d58f82e5f11c6f35ec89\", element=\"693f3c01-da8b-4ba3-ad61-e845b7960b5c\")>,\n",
       " <selenium.webdriver.remote.webelement.WebElement (session=\"bed7921dac56d58f82e5f11c6f35ec89\", element=\"d06c1e93-9006-4037-917f-ddc516637022\")>,\n",
       " <selenium.webdriver.remote.webelement.WebElement (session=\"bed7921dac56d58f82e5f11c6f35ec89\", element=\"a4c8a0c3-b458-4022-bcdc-a98ba920c8d8\")>,\n",
       " <selenium.webdriver.remote.webelement.WebElement (session=\"bed7921dac56d58f82e5f11c6f35ec89\", element=\"34f76fdb-099d-4eb8-a42e-972ee5862d9e\")>,\n",
       " <selenium.webdriver.remote.webelement.WebElement (session=\"bed7921dac56d58f82e5f11c6f35ec89\", element=\"37a37efd-4495-4ea5-9575-c520ad3fe59c\")>,\n",
       " <selenium.webdriver.remote.webelement.WebElement (session=\"bed7921dac56d58f82e5f11c6f35ec89\", element=\"5bb78a73-bd66-440c-8348-0edb1159e618\")>,\n",
       " <selenium.webdriver.remote.webelement.WebElement (session=\"bed7921dac56d58f82e5f11c6f35ec89\", element=\"b09f67be-74b7-4453-a0ed-59d8dc67d11f\")>]"
      ]
     },
     "execution_count": 46,
     "metadata": {},
     "output_type": "execute_result"
    }
   ],
   "source": [
    "#start to extract tags having job titles  \n",
    "titles_tags=driver.find_elements_by_xpath(\"//a[@class='title fw500 ellipsis']\")\n",
    "titles_tags[0:10]"
   ]
  },
  {
   "cell_type": "code",
   "execution_count": 48,
   "id": "51ad03f7",
   "metadata": {},
   "outputs": [
    {
     "data": {
      "text/plain": [
       "['Urgent Job Opening For AI Practitioner - Data Science at Wipro Holmes',\n",
       " 'Hiring For Senior Data Scientist',\n",
       " 'Data Scientist',\n",
       " 'Dataiku Consultant',\n",
       " 'Research and Development -AI/ML -(PhD )',\n",
       " 'Opportunity For Data Scientist - Female Candidates ONLY',\n",
       " 'Senior Data Science Engineer',\n",
       " 'Data Science - Engineering Manager',\n",
       " 'Data Scientist',\n",
       " 'Data & Analytics Tech - Informatica Cloud- Senior Associate']"
      ]
     },
     "execution_count": 48,
     "metadata": {},
     "output_type": "execute_result"
    }
   ],
   "source": [
    "#we run a loop extracted over the tags\n",
    "for i in titles_tags: ##iterating over web element of tiles\n",
    "    job_title=i.text   #extracting text from web each element\n",
    "    jobs_titles.append(job_title) #appending each extracted text into empty list\n",
    "    \n",
    "jobs_titles[0:10]    #printing top 10 job titles"
   ]
  },
  {
   "cell_type": "code",
   "execution_count": 52,
   "id": "ddee065a",
   "metadata": {},
   "outputs": [
    {
     "data": {
      "text/plain": [
       "[<selenium.webdriver.remote.webelement.WebElement (session=\"bed7921dac56d58f82e5f11c6f35ec89\", element=\"5c4f134a-b8ec-4b09-93de-853899418d48\")>,\n",
       " <selenium.webdriver.remote.webelement.WebElement (session=\"bed7921dac56d58f82e5f11c6f35ec89\", element=\"b266609d-4414-46d9-a816-bf970949e74b\")>,\n",
       " <selenium.webdriver.remote.webelement.WebElement (session=\"bed7921dac56d58f82e5f11c6f35ec89\", element=\"11813841-0b8a-41af-a4d0-a35143429a67\")>,\n",
       " <selenium.webdriver.remote.webelement.WebElement (session=\"bed7921dac56d58f82e5f11c6f35ec89\", element=\"4aa413f1-d9e5-4f9c-baa3-ae59528e46ff\")>,\n",
       " <selenium.webdriver.remote.webelement.WebElement (session=\"bed7921dac56d58f82e5f11c6f35ec89\", element=\"9202ca07-9500-49c3-94e3-78536db18b58\")>,\n",
       " <selenium.webdriver.remote.webelement.WebElement (session=\"bed7921dac56d58f82e5f11c6f35ec89\", element=\"fdd44c6a-a945-4004-ac3c-155f4dce0d5d\")>,\n",
       " <selenium.webdriver.remote.webelement.WebElement (session=\"bed7921dac56d58f82e5f11c6f35ec89\", element=\"443b85b0-f09a-4679-ba96-2975b9f1c15d\")>,\n",
       " <selenium.webdriver.remote.webelement.WebElement (session=\"bed7921dac56d58f82e5f11c6f35ec89\", element=\"9eaf1eda-63c9-4c71-91d4-a4c9ad720865\")>,\n",
       " <selenium.webdriver.remote.webelement.WebElement (session=\"bed7921dac56d58f82e5f11c6f35ec89\", element=\"6fbe973e-f71e-4d99-92f8-c17cafead0a3\")>,\n",
       " <selenium.webdriver.remote.webelement.WebElement (session=\"bed7921dac56d58f82e5f11c6f35ec89\", element=\"d4df57b4-7b0a-43b2-b33a-42e2ba233305\")>]"
      ]
     },
     "execution_count": 52,
     "metadata": {},
     "output_type": "execute_result"
    }
   ],
   "source": [
    "# start to extract tags having company names\n",
    "companies_tags=driver.find_elements_by_xpath(\"//a[@class='subTitle ellipsis fleft']\")\n",
    "companies_tags[0:10]"
   ]
  },
  {
   "cell_type": "code",
   "execution_count": 53,
   "id": "973e9ff7",
   "metadata": {},
   "outputs": [
    {
     "data": {
      "text/plain": [
       "['Wipro',\n",
       " 'TATA CONSULTANCY SERVICES (TCS)',\n",
       " 'IHS Markit',\n",
       " 'Wipro',\n",
       " 'EXL',\n",
       " 'PayU',\n",
       " 'Fractal Analytics',\n",
       " 'Paytm',\n",
       " 'Applied Materials',\n",
       " 'PwC']"
      ]
     },
     "execution_count": 53,
     "metadata": {},
     "output_type": "execute_result"
    }
   ],
   "source": [
    "#runs a loop extract to tags\n",
    "for i in companies_tags: #iterating over web element of company tags\n",
    "    company_name=i.text  #extracting text from web each element\n",
    "    company_names.append(company_name) #appending each extracted text into empty list\n",
    "    \n",
    "company_names[0:10]    #printing top 10 company names"
   ]
  },
  {
   "cell_type": "code",
   "execution_count": 55,
   "id": "06e0685b",
   "metadata": {},
   "outputs": [
    {
     "data": {
      "text/plain": [
       "[<selenium.webdriver.remote.webelement.WebElement (session=\"bed7921dac56d58f82e5f11c6f35ec89\", element=\"91315ab3-55ec-4b0c-8fb0-5e8a185c46c4\")>,\n",
       " <selenium.webdriver.remote.webelement.WebElement (session=\"bed7921dac56d58f82e5f11c6f35ec89\", element=\"61476bef-e9da-4a04-9f38-88c3894017dc\")>,\n",
       " <selenium.webdriver.remote.webelement.WebElement (session=\"bed7921dac56d58f82e5f11c6f35ec89\", element=\"6d904522-2936-4cda-81f4-ffc79ce03f8e\")>,\n",
       " <selenium.webdriver.remote.webelement.WebElement (session=\"bed7921dac56d58f82e5f11c6f35ec89\", element=\"5d9f4c2f-8d69-4138-9568-1cba6e2f8b5a\")>,\n",
       " <selenium.webdriver.remote.webelement.WebElement (session=\"bed7921dac56d58f82e5f11c6f35ec89\", element=\"16a7f629-498d-4487-8b99-155338b4fc79\")>,\n",
       " <selenium.webdriver.remote.webelement.WebElement (session=\"bed7921dac56d58f82e5f11c6f35ec89\", element=\"25cfe4ec-57b0-456d-9610-8deef73f7575\")>,\n",
       " <selenium.webdriver.remote.webelement.WebElement (session=\"bed7921dac56d58f82e5f11c6f35ec89\", element=\"19eabd02-a7ad-432b-b045-48549bc1d904\")>,\n",
       " <selenium.webdriver.remote.webelement.WebElement (session=\"bed7921dac56d58f82e5f11c6f35ec89\", element=\"6f4a8dbc-c044-46b7-80a4-aadd00db957e\")>,\n",
       " <selenium.webdriver.remote.webelement.WebElement (session=\"bed7921dac56d58f82e5f11c6f35ec89\", element=\"eef24103-3f3c-4a72-b0ec-93453cd11195\")>,\n",
       " <selenium.webdriver.remote.webelement.WebElement (session=\"bed7921dac56d58f82e5f11c6f35ec89\", element=\"572390c3-d286-4a00-8663-b1a6804f2a14\")>]"
      ]
     },
     "execution_count": 55,
     "metadata": {},
     "output_type": "execute_result"
    }
   ],
   "source": [
    "# start to extract tags having location lists\n",
    "locations_tags=driver.find_elements_by_xpath(\"//li[@class='fleft grey-text br2 placeHolderLi location']/span[1]\") #jobs search for\n",
    "locations_tags[0:10]"
   ]
  },
  {
   "cell_type": "code",
   "execution_count": 56,
   "id": "d551c538",
   "metadata": {},
   "outputs": [
    {
     "data": {
      "text/plain": [
       "['Hyderabad/Secunderabad, Chennai, Bangalore/Bengaluru',\n",
       " 'Hyderabad/Secunderabad, Chennai, Bangalore/Bengaluru',\n",
       " 'Hyderabad/Secunderabad, Chennai, Bangalore/Bengaluru',\n",
       " 'Hyderabad/Secunderabad, Chennai, Bangalore/Bengaluru',\n",
       " 'Hyderabad/Secunderabad, Chennai, Bangalore/Bengaluru',\n",
       " 'Hyderabad/Secunderabad, Chennai, Bangalore/Bengaluru',\n",
       " 'Hyderabad/Secunderabad, Chennai, Bangalore/Bengaluru',\n",
       " 'Hyderabad/Secunderabad, Chennai, Bangalore/Bengaluru',\n",
       " 'Hyderabad/Secunderabad, Chennai, Bangalore/Bengaluru',\n",
       " 'Hyderabad/Secunderabad, Chennai, Bangalore/Bengaluru']"
      ]
     },
     "execution_count": 56,
     "metadata": {},
     "output_type": "execute_result"
    }
   ],
   "source": [
    "#runs a loop extract tags\n",
    "for i in locations_tags: #iterating over web element of location tags\n",
    "    location_list=i.text  #extracting text from web each element\n",
    "    location_lists.append(location) # appending each extracted text into empty list\n",
    "    \n",
    "location_lists[0:10]    #printing top 10 location list"
   ]
  },
  {
   "cell_type": "code",
   "execution_count": 57,
   "id": "f699b566",
   "metadata": {},
   "outputs": [
    {
     "name": "stdout",
     "output_type": "stream",
     "text": [
      "20 20 20\n"
     ]
    }
   ],
   "source": [
    "print(len(jobs_titles),len(company_names),len(location_lists))"
   ]
  },
  {
   "cell_type": "code",
   "execution_count": 58,
   "id": "041c39ac",
   "metadata": {},
   "outputs": [
    {
     "data": {
      "text/html": [
       "<div>\n",
       "<style scoped>\n",
       "    .dataframe tbody tr th:only-of-type {\n",
       "        vertical-align: middle;\n",
       "    }\n",
       "\n",
       "    .dataframe tbody tr th {\n",
       "        vertical-align: top;\n",
       "    }\n",
       "\n",
       "    .dataframe thead th {\n",
       "        text-align: right;\n",
       "    }\n",
       "</style>\n",
       "<table border=\"1\" class=\"dataframe\">\n",
       "  <thead>\n",
       "    <tr style=\"text-align: right;\">\n",
       "      <th></th>\n",
       "      <th>Jobs_tittles</th>\n",
       "      <th>Company_names</th>\n",
       "      <th>location_lists</th>\n",
       "    </tr>\n",
       "  </thead>\n",
       "  <tbody>\n",
       "    <tr>\n",
       "      <th>0</th>\n",
       "      <td>Sr.Business Data Analyst</td>\n",
       "      <td>Wipro</td>\n",
       "      <td>Hyderabad/Secunderabad, Chennai, Bangalore/Ben...</td>\n",
       "    </tr>\n",
       "    <tr>\n",
       "      <th>1</th>\n",
       "      <td>Senior Data Analyst</td>\n",
       "      <td>TATA CONSULTANCY SERVICES (TCS)</td>\n",
       "      <td>Hyderabad/Secunderabad, Chennai, Bangalore/Ben...</td>\n",
       "    </tr>\n",
       "    <tr>\n",
       "      <th>2</th>\n",
       "      <td>Master Data Management Business Analyst</td>\n",
       "      <td>IHS Markit</td>\n",
       "      <td>Hyderabad/Secunderabad, Chennai, Bangalore/Ben...</td>\n",
       "    </tr>\n",
       "    <tr>\n",
       "      <th>3</th>\n",
       "      <td>Sr Data Analyst</td>\n",
       "      <td>Wipro</td>\n",
       "      <td>Hyderabad/Secunderabad, Chennai, Bangalore/Ben...</td>\n",
       "    </tr>\n",
       "    <tr>\n",
       "      <th>4</th>\n",
       "      <td>Data Analyst - IIM/ISB/MDI/FMS/SP Jain</td>\n",
       "      <td>EXL</td>\n",
       "      <td>Hyderabad/Secunderabad, Chennai, Bangalore/Ben...</td>\n",
       "    </tr>\n",
       "    <tr>\n",
       "      <th>5</th>\n",
       "      <td>Business Analyst/Data Analyst</td>\n",
       "      <td>PayU</td>\n",
       "      <td>Hyderabad/Secunderabad, Chennai, Bangalore/Ben...</td>\n",
       "    </tr>\n",
       "    <tr>\n",
       "      <th>6</th>\n",
       "      <td>Hiring For Data Analyst</td>\n",
       "      <td>Fractal Analytics</td>\n",
       "      <td>Hyderabad/Secunderabad, Chennai, Bangalore/Ben...</td>\n",
       "    </tr>\n",
       "    <tr>\n",
       "      <th>7</th>\n",
       "      <td>Data Analyst</td>\n",
       "      <td>Paytm</td>\n",
       "      <td>Hyderabad/Secunderabad, Chennai, Bangalore/Ben...</td>\n",
       "    </tr>\n",
       "    <tr>\n",
       "      <th>8</th>\n",
       "      <td>Data Analyst/Senior Data Analyst</td>\n",
       "      <td>Applied Materials</td>\n",
       "      <td>Hyderabad/Secunderabad, Chennai, Bangalore/Ben...</td>\n",
       "    </tr>\n",
       "    <tr>\n",
       "      <th>9</th>\n",
       "      <td>Senior Data Analysis Analyst</td>\n",
       "      <td>PwC</td>\n",
       "      <td>Hyderabad/Secunderabad, Chennai, Bangalore/Ben...</td>\n",
       "    </tr>\n",
       "    <tr>\n",
       "      <th>10</th>\n",
       "      <td>Data Analyst - Python/Artificial Intelligence</td>\n",
       "      <td>IBM</td>\n",
       "      <td>Hyderabad/Secunderabad, Chennai, Bangalore/Ben...</td>\n",
       "    </tr>\n",
       "    <tr>\n",
       "      <th>11</th>\n",
       "      <td>Data Analyst - Python/SQL</td>\n",
       "      <td>IBM</td>\n",
       "      <td>Hyderabad/Secunderabad, Chennai, Bangalore/Ben...</td>\n",
       "    </tr>\n",
       "    <tr>\n",
       "      <th>12</th>\n",
       "      <td>Data Analyst - IT</td>\n",
       "      <td>Schneider Electric</td>\n",
       "      <td>Hyderabad/Secunderabad, Chennai, Bangalore/Ben...</td>\n",
       "    </tr>\n",
       "    <tr>\n",
       "      <th>13</th>\n",
       "      <td>Performance Data Analyst</td>\n",
       "      <td>IBM</td>\n",
       "      <td>Hyderabad/Secunderabad, Chennai, Bangalore/Ben...</td>\n",
       "    </tr>\n",
       "    <tr>\n",
       "      <th>14</th>\n",
       "      <td>Data Analyst - CRM Platform</td>\n",
       "      <td>Walmart</td>\n",
       "      <td>Hyderabad/Secunderabad, Chennai, Bangalore/Ben...</td>\n",
       "    </tr>\n",
       "    <tr>\n",
       "      <th>15</th>\n",
       "      <td>Data Analyst</td>\n",
       "      <td>Wipro</td>\n",
       "      <td>Hyderabad/Secunderabad, Chennai, Bangalore/Ben...</td>\n",
       "    </tr>\n",
       "    <tr>\n",
       "      <th>16</th>\n",
       "      <td>Senior Data Analyst</td>\n",
       "      <td>Wipro</td>\n",
       "      <td>Hyderabad/Secunderabad, Chennai, Bangalore/Ben...</td>\n",
       "    </tr>\n",
       "    <tr>\n",
       "      <th>17</th>\n",
       "      <td>Sr. Data Operations Analyst</td>\n",
       "      <td>VISA</td>\n",
       "      <td>Hyderabad/Secunderabad, Chennai, Bangalore/Ben...</td>\n",
       "    </tr>\n",
       "    <tr>\n",
       "      <th>18</th>\n",
       "      <td>Data Analyst / Data Source Engineer - SOQL/SOSL</td>\n",
       "      <td>Genpact</td>\n",
       "      <td>Hyderabad/Secunderabad, Chennai, Bangalore/Ben...</td>\n",
       "    </tr>\n",
       "    <tr>\n",
       "      <th>19</th>\n",
       "      <td>Data Analyst</td>\n",
       "      <td>EYGBS</td>\n",
       "      <td>Hyderabad/Secunderabad, Chennai, Bangalore/Ben...</td>\n",
       "    </tr>\n",
       "  </tbody>\n",
       "</table>\n",
       "</div>"
      ],
      "text/plain": [
       "                                       Jobs_tittles  \\\n",
       "0                          Sr.Business Data Analyst   \n",
       "1                               Senior Data Analyst   \n",
       "2           Master Data Management Business Analyst   \n",
       "3                                   Sr Data Analyst   \n",
       "4            Data Analyst - IIM/ISB/MDI/FMS/SP Jain   \n",
       "5                     Business Analyst/Data Analyst   \n",
       "6                           Hiring For Data Analyst   \n",
       "7                                      Data Analyst   \n",
       "8                  Data Analyst/Senior Data Analyst   \n",
       "9                      Senior Data Analysis Analyst   \n",
       "10    Data Analyst - Python/Artificial Intelligence   \n",
       "11                        Data Analyst - Python/SQL   \n",
       "12                                Data Analyst - IT   \n",
       "13                         Performance Data Analyst   \n",
       "14                      Data Analyst - CRM Platform   \n",
       "15                                     Data Analyst   \n",
       "16                              Senior Data Analyst   \n",
       "17                      Sr. Data Operations Analyst   \n",
       "18  Data Analyst / Data Source Engineer - SOQL/SOSL   \n",
       "19                                     Data Analyst   \n",
       "\n",
       "                      Company_names  \\\n",
       "0                             Wipro   \n",
       "1   TATA CONSULTANCY SERVICES (TCS)   \n",
       "2                        IHS Markit   \n",
       "3                             Wipro   \n",
       "4                               EXL   \n",
       "5                              PayU   \n",
       "6                 Fractal Analytics   \n",
       "7                             Paytm   \n",
       "8                 Applied Materials   \n",
       "9                               PwC   \n",
       "10                              IBM   \n",
       "11                              IBM   \n",
       "12               Schneider Electric   \n",
       "13                              IBM   \n",
       "14                          Walmart   \n",
       "15                            Wipro   \n",
       "16                            Wipro   \n",
       "17                             VISA   \n",
       "18                          Genpact   \n",
       "19                            EYGBS   \n",
       "\n",
       "                                       location_lists  \n",
       "0   Hyderabad/Secunderabad, Chennai, Bangalore/Ben...  \n",
       "1   Hyderabad/Secunderabad, Chennai, Bangalore/Ben...  \n",
       "2   Hyderabad/Secunderabad, Chennai, Bangalore/Ben...  \n",
       "3   Hyderabad/Secunderabad, Chennai, Bangalore/Ben...  \n",
       "4   Hyderabad/Secunderabad, Chennai, Bangalore/Ben...  \n",
       "5   Hyderabad/Secunderabad, Chennai, Bangalore/Ben...  \n",
       "6   Hyderabad/Secunderabad, Chennai, Bangalore/Ben...  \n",
       "7   Hyderabad/Secunderabad, Chennai, Bangalore/Ben...  \n",
       "8   Hyderabad/Secunderabad, Chennai, Bangalore/Ben...  \n",
       "9   Hyderabad/Secunderabad, Chennai, Bangalore/Ben...  \n",
       "10  Hyderabad/Secunderabad, Chennai, Bangalore/Ben...  \n",
       "11  Hyderabad/Secunderabad, Chennai, Bangalore/Ben...  \n",
       "12  Hyderabad/Secunderabad, Chennai, Bangalore/Ben...  \n",
       "13  Hyderabad/Secunderabad, Chennai, Bangalore/Ben...  \n",
       "14  Hyderabad/Secunderabad, Chennai, Bangalore/Ben...  \n",
       "15  Hyderabad/Secunderabad, Chennai, Bangalore/Ben...  \n",
       "16  Hyderabad/Secunderabad, Chennai, Bangalore/Ben...  \n",
       "17  Hyderabad/Secunderabad, Chennai, Bangalore/Ben...  \n",
       "18  Hyderabad/Secunderabad, Chennai, Bangalore/Ben...  \n",
       "19  Hyderabad/Secunderabad, Chennai, Bangalore/Ben...  "
      ]
     },
     "execution_count": 58,
     "metadata": {},
     "output_type": "execute_result"
    }
   ],
   "source": [
    "#make data frame\n",
    "df=pd.DataFrame({'Jobs_tittles':job_titles,'Company_names':\n",
    "                company_names,'location_lists':location_lists})\n",
    "df"
   ]
  },
  {
   "cell_type": "code",
   "execution_count": 59,
   "id": "edcdec50",
   "metadata": {},
   "outputs": [
    {
     "data": {
      "text/plain": [
       "[<selenium.webdriver.remote.webelement.WebElement (session=\"bed7921dac56d58f82e5f11c6f35ec89\", element=\"e1145bc6-de6d-40f0-8a32-cc773f581ed9\")>,\n",
       " <selenium.webdriver.remote.webelement.WebElement (session=\"bed7921dac56d58f82e5f11c6f35ec89\", element=\"336a4365-5ea2-4d87-9f28-3e0489386ff1\")>,\n",
       " <selenium.webdriver.remote.webelement.WebElement (session=\"bed7921dac56d58f82e5f11c6f35ec89\", element=\"c12d3f22-1379-44a8-8d5c-085c8470cd49\")>,\n",
       " <selenium.webdriver.remote.webelement.WebElement (session=\"bed7921dac56d58f82e5f11c6f35ec89\", element=\"693f3c01-da8b-4ba3-ad61-e845b7960b5c\")>,\n",
       " <selenium.webdriver.remote.webelement.WebElement (session=\"bed7921dac56d58f82e5f11c6f35ec89\", element=\"d06c1e93-9006-4037-917f-ddc516637022\")>,\n",
       " <selenium.webdriver.remote.webelement.WebElement (session=\"bed7921dac56d58f82e5f11c6f35ec89\", element=\"a4c8a0c3-b458-4022-bcdc-a98ba920c8d8\")>,\n",
       " <selenium.webdriver.remote.webelement.WebElement (session=\"bed7921dac56d58f82e5f11c6f35ec89\", element=\"34f76fdb-099d-4eb8-a42e-972ee5862d9e\")>,\n",
       " <selenium.webdriver.remote.webelement.WebElement (session=\"bed7921dac56d58f82e5f11c6f35ec89\", element=\"37a37efd-4495-4ea5-9575-c520ad3fe59c\")>,\n",
       " <selenium.webdriver.remote.webelement.WebElement (session=\"bed7921dac56d58f82e5f11c6f35ec89\", element=\"5bb78a73-bd66-440c-8348-0edb1159e618\")>,\n",
       " <selenium.webdriver.remote.webelement.WebElement (session=\"bed7921dac56d58f82e5f11c6f35ec89\", element=\"b09f67be-74b7-4453-a0ed-59d8dc67d11f\")>]"
      ]
     },
     "execution_count": 59,
     "metadata": {},
     "output_type": "execute_result"
    }
   ],
   "source": [
    "#code fetch of any urls\n",
    "urls=driver.find_elements_by_xpath(\"//a[@class='title fw500 ellipsis']\") #locating web element of url\n",
    "urls[0:10]\n"
   ]
  },
  {
   "cell_type": "code",
   "execution_count": 60,
   "id": "864ddaed",
   "metadata": {},
   "outputs": [
    {
     "name": "stdout",
     "output_type": "stream",
     "text": [
      "https://www.naukri.com/job-listings-urgent-opening-for-ai-practitioner-data-science-at-wipro-holmes-wipro-limited-kochi-cochin-new-delhi-bangalore-bengaluru-coimbatore-chennai-pune-mumbai-hyderabad-11-to-21-years-310522004893\n",
      "https://www.naukri.com/job-listings-hiring-for-senior-data-scientist-tata-consultancy-services-ltd-pune-bangalore-bengaluru-8-to-13-years-130722002780\n",
      "https://www.naukri.com/job-listings-data-scientist-ihs-markit-bangalore-bengaluru-3-to-5-years-140722501390\n",
      "https://www.naukri.com/job-listings-dataiku-consultant-wipro-limited-pune-chennai-bangalore-bengaluru-10-to-16-years-060722005045\n",
      "https://www.naukri.com/job-listings-research-and-development-ai-ml-phd-exl-services-com-i-pvt-ltd-noida-hyderabad-secunderabad-pune-gurgaon-gurugram-chennai-bangalore-bengaluru-delhi-ncr-4-to-8-years-030522007386\n",
      "https://www.naukri.com/job-listings-opportunity-for-data-scientist-female-candidates-only-payu-payments-private-limited-gurgaon-gurugram-bangalore-bengaluru-mumbai-all-areas-1-to-3-years-040722005955\n",
      "https://www.naukri.com/job-listings-senior-data-science-engineer-fractal-analytics-pvt-ltd-gurgaon-gurugram-bangalore-bengaluru-mumbai-all-areas-5-to-9-years-200622006171\n",
      "https://www.naukri.com/job-listings-data-science-engineering-manager-paytm-noida-mumbai-bangalore-bengaluru-9-to-13-years-160622501981\n",
      "https://www.naukri.com/job-listings-data-scientist-applied-materials-india-private-limited-bangalore-bengaluru-4-to-7-years-120722905916\n",
      "https://www.naukri.com/job-listings-data-analytics-tech-informatica-cloud-senior-associate-pricewaterhouse-coopers-private-limited-bangalore-bengaluru-6-to-10-years-120722905627\n"
     ]
    }
   ],
   "source": [
    "for i in urls[0:10]:  #giving range to print top 10 data\n",
    "    print(i.get_attribute('href'))  #url is present inside href attritube and href attritube present inside tags"
   ]
  },
  {
   "cell_type": "code",
   "execution_count": 76,
   "id": "6a45540b",
   "metadata": {},
   "outputs": [],
   "source": [
    "# lets connect to web driver\n",
    "driver=webdriver.Chrome(r\"C:\\Users\\Vikash_info\\chromedriver.exe\")\n"
   ]
  },
  {
   "cell_type": "code",
   "execution_count": 68,
   "id": "6d97f8c8",
   "metadata": {},
   "outputs": [],
   "source": [
    "driver=webdriver.Chrome(\"chromedriver.exe\")\n",
    "time.sleep(2)"
   ]
  },
  {
   "cell_type": "code",
   "execution_count": 77,
   "id": "b8c8a14c",
   "metadata": {},
   "outputs": [],
   "source": [
    "#scraping up naukri.com with automated web driver\n",
    "driver.get(\"https://www.naukri.com/\")"
   ]
  },
  {
   "cell_type": "code",
   "execution_count": 78,
   "id": "670f34c7",
   "metadata": {},
   "outputs": [],
   "source": [
    "##finding element job search for designation\n",
    "search_field_designation=driver.find_element_by_class_name(\"suggestor-input \") #job search for\n",
    "search_field_designation.send_keys(\"Data Scientist\")"
   ]
  },
  {
   "cell_type": "code",
   "execution_count": 79,
   "id": "5fc737bf",
   "metadata": {},
   "outputs": [],
   "source": [
    "search_button=driver.find_element_by_xpath(\"/html/body/div[1]/div[2]/div[3]/div/div/div[6]\")\n",
    "search_button.click()"
   ]
  },
  {
   "cell_type": "code",
   "execution_count": 72,
   "id": "a6f1a249",
   "metadata": {},
   "outputs": [],
   "source": [
    "job_titles=[]\n",
    "company_names=[]\n",
    "experience_lists=[]\n",
    "locations_lists=[]"
   ]
  },
  {
   "cell_type": "code",
   "execution_count": 80,
   "id": "8ebe9043",
   "metadata": {},
   "outputs": [
    {
     "data": {
      "text/plain": [
       "[<selenium.webdriver.remote.webelement.WebElement (session=\"ead31b823ebe6b621d7f2b72c2c41f83\", element=\"453e7d35-f4be-4ac5-858e-3c6bc9ad80bd\")>,\n",
       " <selenium.webdriver.remote.webelement.WebElement (session=\"ead31b823ebe6b621d7f2b72c2c41f83\", element=\"1892eb08-f1b3-4e2d-8ced-e1f66bfe2f02\")>,\n",
       " <selenium.webdriver.remote.webelement.WebElement (session=\"ead31b823ebe6b621d7f2b72c2c41f83\", element=\"e65c90f0-a19c-474e-894b-5565960ade8e\")>,\n",
       " <selenium.webdriver.remote.webelement.WebElement (session=\"ead31b823ebe6b621d7f2b72c2c41f83\", element=\"17904e62-4c2e-4a43-9535-6f1f0ad35038\")>,\n",
       " <selenium.webdriver.remote.webelement.WebElement (session=\"ead31b823ebe6b621d7f2b72c2c41f83\", element=\"9462fb8e-ca92-445f-bdd8-4f1f5e443043\")>,\n",
       " <selenium.webdriver.remote.webelement.WebElement (session=\"ead31b823ebe6b621d7f2b72c2c41f83\", element=\"6172d561-67c2-4181-88a1-3e20a61e98de\")>,\n",
       " <selenium.webdriver.remote.webelement.WebElement (session=\"ead31b823ebe6b621d7f2b72c2c41f83\", element=\"3743f15f-9f6c-4953-84a2-c1b51f59fdc3\")>,\n",
       " <selenium.webdriver.remote.webelement.WebElement (session=\"ead31b823ebe6b621d7f2b72c2c41f83\", element=\"42e62990-feab-429f-9ad0-911d53fb4cf7\")>,\n",
       " <selenium.webdriver.remote.webelement.WebElement (session=\"ead31b823ebe6b621d7f2b72c2c41f83\", element=\"91abd018-f144-4422-ad5d-5348d769846c\")>,\n",
       " <selenium.webdriver.remote.webelement.WebElement (session=\"ead31b823ebe6b621d7f2b72c2c41f83\", element=\"26a4afbe-6e69-4f8b-95ba-3d55daf99863\")>]"
      ]
     },
     "execution_count": 80,
     "metadata": {},
     "output_type": "execute_result"
    }
   ],
   "source": [
    "#so lets extract all tags having the job titles\n",
    "titles_tags=driver.find_elements_by_xpath(\"//a[@class='title fw500 ellipsis']\")\n",
    "titles_tags[0:10]"
   ]
  },
  {
   "cell_type": "code",
   "execution_count": 81,
   "id": "0ca37ce5",
   "metadata": {},
   "outputs": [
    {
     "data": {
      "text/plain": [
       "['DigitalBCG GAMMA Data Scientist',\n",
       " 'Data Scientist - Noida/Bangalore',\n",
       " 'Senior Associate - Data Science',\n",
       " 'Data Scientist - Machine learning AI',\n",
       " 'Data Scientist For Healthcare Product team',\n",
       " 'Data Scientist For Healthcare Product team',\n",
       " 'Data Scientist - MIND Infotech',\n",
       " 'Data Scientist - Engine Algorithm',\n",
       " 'Data Science Associate',\n",
       " 'Data Scientist']"
      ]
     },
     "execution_count": 81,
     "metadata": {},
     "output_type": "execute_result"
    }
   ],
   "source": [
    "#create a loop for extract tags\n",
    "for i in titles_tags:#iterating over web element of title\n",
    "    job_title=i.text #extracting text from web each element\n",
    "    job_titles.append(job_title) # appending each extected text into empty list\n",
    "job_titles[0:10]    #printing top 10 data"
   ]
  },
  {
   "cell_type": "code",
   "execution_count": 84,
   "id": "e086eb1c",
   "metadata": {},
   "outputs": [
    {
     "data": {
      "text/plain": [
       "[<selenium.webdriver.remote.webelement.WebElement (session=\"ead31b823ebe6b621d7f2b72c2c41f83\", element=\"39bd2b3c-971d-4534-8434-faf030f26cf8\")>,\n",
       " <selenium.webdriver.remote.webelement.WebElement (session=\"ead31b823ebe6b621d7f2b72c2c41f83\", element=\"00a6aa34-b191-464c-9d93-dd4ec5536bc1\")>,\n",
       " <selenium.webdriver.remote.webelement.WebElement (session=\"ead31b823ebe6b621d7f2b72c2c41f83\", element=\"7d3fd4e6-9e07-4d30-806a-6a1cbee80dc5\")>,\n",
       " <selenium.webdriver.remote.webelement.WebElement (session=\"ead31b823ebe6b621d7f2b72c2c41f83\", element=\"4ebd5d95-4e45-407b-a0b0-13aada024215\")>,\n",
       " <selenium.webdriver.remote.webelement.WebElement (session=\"ead31b823ebe6b621d7f2b72c2c41f83\", element=\"b77bf82d-9669-40b7-b938-d244bb91c14e\")>,\n",
       " <selenium.webdriver.remote.webelement.WebElement (session=\"ead31b823ebe6b621d7f2b72c2c41f83\", element=\"2ffd4dce-012a-4f0b-9742-0b1d6e550593\")>,\n",
       " <selenium.webdriver.remote.webelement.WebElement (session=\"ead31b823ebe6b621d7f2b72c2c41f83\", element=\"acb5d9bc-7b95-4ff1-96d4-76a257c3da0b\")>,\n",
       " <selenium.webdriver.remote.webelement.WebElement (session=\"ead31b823ebe6b621d7f2b72c2c41f83\", element=\"1ce275c7-6b8c-4d54-af9f-ab1af42e6954\")>,\n",
       " <selenium.webdriver.remote.webelement.WebElement (session=\"ead31b823ebe6b621d7f2b72c2c41f83\", element=\"1b81cba9-e9ae-49bd-8597-66f40a054384\")>,\n",
       " <selenium.webdriver.remote.webelement.WebElement (session=\"ead31b823ebe6b621d7f2b72c2c41f83\", element=\"fa2c0c8a-ae37-4a3f-b42a-3f73640f5903\")>]"
      ]
     },
     "execution_count": 84,
     "metadata": {},
     "output_type": "execute_result"
    }
   ],
   "source": [
    "#lets extract the tags having company name\n",
    "companies_tags=driver.find_elements_by_xpath(\"//a[@class='subTitle ellipsis fleft']\")\n",
    "companies_tags[0:10]"
   ]
  },
  {
   "cell_type": "code",
   "execution_count": 86,
   "id": "d8a71247",
   "metadata": {},
   "outputs": [
    {
     "data": {
      "text/plain": [
       "['Boston Consulting Group',\n",
       " 'EXL',\n",
       " 'Black Turtle',\n",
       " 'Teq Analytics',\n",
       " 'SECUREKLOUD TECHNOLOGIES',\n",
       " 'SECUREKLOUD TECHNOLOGIES',\n",
       " 'MOTHERSONSUMI INFOTECH & DESIGNS LIMITED',\n",
       " 'Primo Hiring',\n",
       " 'Kreate Energy',\n",
       " 'Mount Talent Consulting Private Limited']"
      ]
     },
     "execution_count": 86,
     "metadata": {},
     "output_type": "execute_result"
    }
   ],
   "source": [
    "#use a loop extrcat tags\n",
    "for i in companies_tags:  #iterating over web element of company tags\n",
    "    company_name=i.text #extracting text from web each element\n",
    "    company_names.append(company_name) #appending each extected text into empty list\n",
    "company_names[0:10]    #printing top 10 data"
   ]
  },
  {
   "cell_type": "code",
   "execution_count": 87,
   "id": "c0860f78",
   "metadata": {},
   "outputs": [
    {
     "data": {
      "text/plain": [
       "[<selenium.webdriver.remote.webelement.WebElement (session=\"ead31b823ebe6b621d7f2b72c2c41f83\", element=\"578a9b4e-d293-41fe-aaac-cbb960d68b1c\")>,\n",
       " <selenium.webdriver.remote.webelement.WebElement (session=\"ead31b823ebe6b621d7f2b72c2c41f83\", element=\"9908bde3-4c6e-4db0-94ec-f83e45a00c98\")>,\n",
       " <selenium.webdriver.remote.webelement.WebElement (session=\"ead31b823ebe6b621d7f2b72c2c41f83\", element=\"c0cd2ad1-bf14-4a70-a28e-35bff721c047\")>,\n",
       " <selenium.webdriver.remote.webelement.WebElement (session=\"ead31b823ebe6b621d7f2b72c2c41f83\", element=\"138008b3-1ecb-4037-851c-7def8dfdece9\")>,\n",
       " <selenium.webdriver.remote.webelement.WebElement (session=\"ead31b823ebe6b621d7f2b72c2c41f83\", element=\"41519236-fa5d-4af4-9f15-b4396af35fdb\")>,\n",
       " <selenium.webdriver.remote.webelement.WebElement (session=\"ead31b823ebe6b621d7f2b72c2c41f83\", element=\"2f3f4057-84de-45d6-96df-b339313d7f99\")>,\n",
       " <selenium.webdriver.remote.webelement.WebElement (session=\"ead31b823ebe6b621d7f2b72c2c41f83\", element=\"0dde00ff-4418-40dc-9d29-14b67c15e062\")>,\n",
       " <selenium.webdriver.remote.webelement.WebElement (session=\"ead31b823ebe6b621d7f2b72c2c41f83\", element=\"f225a180-aab2-487c-a370-1997703a3b91\")>,\n",
       " <selenium.webdriver.remote.webelement.WebElement (session=\"ead31b823ebe6b621d7f2b72c2c41f83\", element=\"a6df0d38-5ee3-4a5e-9778-278d01450b44\")>,\n",
       " <selenium.webdriver.remote.webelement.WebElement (session=\"ead31b823ebe6b621d7f2b72c2c41f83\", element=\"7fddf7a0-0a71-4c82-a782-126b9512ddec\")>]"
      ]
     },
     "execution_count": 87,
     "metadata": {},
     "output_type": "execute_result"
    }
   ],
   "source": [
    "# now let me extract all the tags having exp names\n",
    "experience_tags=driver.find_elements_by_xpath(\"//li[@class='fleft grey-text br2 placeHolderLi experience']/span\")\n",
    "experience_tags[0:10]"
   ]
  },
  {
   "cell_type": "code",
   "execution_count": 90,
   "id": "ff7ac0e8",
   "metadata": {},
   "outputs": [
    {
     "data": {
      "text/plain": [
       "['2-5 Yrs',\n",
       " '5-10 Yrs',\n",
       " '4-7 Yrs',\n",
       " '3-8 Yrs',\n",
       " '2-7 Yrs',\n",
       " '2-7 Yrs',\n",
       " '4-8 Yrs',\n",
       " '1-3 Yrs',\n",
       " '2-4 Yrs',\n",
       " '2-4 Yrs']"
      ]
     },
     "execution_count": 90,
     "metadata": {},
     "output_type": "execute_result"
    }
   ],
   "source": [
    "# now let me extract all the tags having exp names\n",
    "for i in experience_tags:  #iterating over web element of experience tags\n",
    "    experience_list=i.text #extracting text from web each element\n",
    "    experience_lists.append(experience_list) #appending each extected text into empty list\n",
    "experience_lists[0:10] #printing top 10 data"
   ]
  },
  {
   "cell_type": "code",
   "execution_count": 91,
   "id": "4dbbfdad",
   "metadata": {},
   "outputs": [
    {
     "data": {
      "text/plain": [
       "[<selenium.webdriver.remote.webelement.WebElement (session=\"ead31b823ebe6b621d7f2b72c2c41f83\", element=\"395b7133-d20d-4893-9677-5e82ba4ff02d\")>,\n",
       " <selenium.webdriver.remote.webelement.WebElement (session=\"ead31b823ebe6b621d7f2b72c2c41f83\", element=\"f02695a8-877c-49c2-bb5f-1473325990c6\")>,\n",
       " <selenium.webdriver.remote.webelement.WebElement (session=\"ead31b823ebe6b621d7f2b72c2c41f83\", element=\"024fae0a-d57e-4776-8d66-074c315773b2\")>,\n",
       " <selenium.webdriver.remote.webelement.WebElement (session=\"ead31b823ebe6b621d7f2b72c2c41f83\", element=\"8caee249-1614-488c-8083-72ae608ced1a\")>,\n",
       " <selenium.webdriver.remote.webelement.WebElement (session=\"ead31b823ebe6b621d7f2b72c2c41f83\", element=\"98b2bfb4-aa22-41f1-922d-7ab59a079ad9\")>,\n",
       " <selenium.webdriver.remote.webelement.WebElement (session=\"ead31b823ebe6b621d7f2b72c2c41f83\", element=\"2a21b7f1-3efa-4e69-93d2-5411a864ca9b\")>,\n",
       " <selenium.webdriver.remote.webelement.WebElement (session=\"ead31b823ebe6b621d7f2b72c2c41f83\", element=\"a30daa9f-a661-46f5-8fd7-65535dfa5fd2\")>,\n",
       " <selenium.webdriver.remote.webelement.WebElement (session=\"ead31b823ebe6b621d7f2b72c2c41f83\", element=\"16abe1a2-70d5-4243-8e3a-3fac16ee5291\")>,\n",
       " <selenium.webdriver.remote.webelement.WebElement (session=\"ead31b823ebe6b621d7f2b72c2c41f83\", element=\"b4427149-9d5b-47d8-b16b-a685ede9f69f\")>,\n",
       " <selenium.webdriver.remote.webelement.WebElement (session=\"ead31b823ebe6b621d7f2b72c2c41f83\", element=\"ae5fa316-ab9a-4a1f-aabf-081b474aafb0\")>]"
      ]
     },
     "execution_count": 91,
     "metadata": {},
     "output_type": "execute_result"
    }
   ],
   "source": [
    "# now let me extract all the tags having locations names\n",
    "locations_tags=driver.find_elements_by_xpath(\"//li[@class='fleft grey-text br2 placeHolderLi location']/span[1]\")\n",
    "locations_tags[0:10]"
   ]
  },
  {
   "cell_type": "code",
   "execution_count": 92,
   "id": "43e89703",
   "metadata": {},
   "outputs": [
    {
     "data": {
      "text/plain": [
       "['New Delhi, Bangalore/Bengaluru',\n",
       " 'Noida, Bangalore/Bengaluru',\n",
       " 'Mumbai, Hyderabad/Secunderabad, Gurgaon/Gurugram, Bangalore/Bengaluru',\n",
       " 'Delhi / NCR, Bangalore/Bengaluru, Mumbai (All Areas)',\n",
       " 'Delhi / NCR, Chennai, Bangalore/Bengaluru',\n",
       " 'Delhi / NCR, Chennai, Bangalore/Bengaluru',\n",
       " 'Noida',\n",
       " 'Delhi / NCR, Kolkata, Mumbai, Hyderabad/Secunderabad, Lucknow, Chennai, Ahmedabad, Bangalore/Bengaluru',\n",
       " 'Delhi / NCR(Vaishali)',\n",
       " 'Delhi / NCR, Pune, Bangalore/Bengaluru']"
      ]
     },
     "execution_count": 92,
     "metadata": {},
     "output_type": "execute_result"
    }
   ],
   "source": [
    "for i in locations_tags: #iterating over web element of location tags\n",
    "    location_list=i.text #extracting text from web each element\n",
    "    locations_lists.append(location_list)  #appending each extected text into empty list\n",
    "locations_lists[0:10]  #printing top 10 data"
   ]
  },
  {
   "cell_type": "code",
   "execution_count": 93,
   "id": "12b39217",
   "metadata": {},
   "outputs": [
    {
     "name": "stdout",
     "output_type": "stream",
     "text": [
      "20 20 20 20\n"
     ]
    }
   ],
   "source": [
    "print(len(job_titles),len(company_names),len(experience_lists),len(locations_lists))"
   ]
  },
  {
   "cell_type": "code",
   "execution_count": 97,
   "id": "b4cbad94",
   "metadata": {},
   "outputs": [],
   "source": [
    "#make a DataFrame using import pandas as pd\n",
    "jobs=pd.DataFrame({})\n",
    "jobs['Titles']=job_titles\n",
    "jobs['Company_names']=company_names\n",
    "jobs['Experience_required']=experience_lists\n",
    "jobs['Locations_lists']=locations_lists"
   ]
  },
  {
   "cell_type": "code",
   "execution_count": 98,
   "id": "7c3ad5f0",
   "metadata": {},
   "outputs": [
    {
     "data": {
      "text/html": [
       "<div>\n",
       "<style scoped>\n",
       "    .dataframe tbody tr th:only-of-type {\n",
       "        vertical-align: middle;\n",
       "    }\n",
       "\n",
       "    .dataframe tbody tr th {\n",
       "        vertical-align: top;\n",
       "    }\n",
       "\n",
       "    .dataframe thead th {\n",
       "        text-align: right;\n",
       "    }\n",
       "</style>\n",
       "<table border=\"1\" class=\"dataframe\">\n",
       "  <thead>\n",
       "    <tr style=\"text-align: right;\">\n",
       "      <th></th>\n",
       "      <th>Titles</th>\n",
       "      <th>Company_names</th>\n",
       "      <th>Experience_required</th>\n",
       "      <th>Locations_lists</th>\n",
       "    </tr>\n",
       "  </thead>\n",
       "  <tbody>\n",
       "    <tr>\n",
       "      <th>0</th>\n",
       "      <td>DigitalBCG GAMMA Data Scientist</td>\n",
       "      <td>Boston Consulting Group</td>\n",
       "      <td>2-5 Yrs</td>\n",
       "      <td>New Delhi, Bangalore/Bengaluru</td>\n",
       "    </tr>\n",
       "    <tr>\n",
       "      <th>1</th>\n",
       "      <td>Data Scientist - Noida/Bangalore</td>\n",
       "      <td>EXL</td>\n",
       "      <td>5-10 Yrs</td>\n",
       "      <td>Noida, Bangalore/Bengaluru</td>\n",
       "    </tr>\n",
       "    <tr>\n",
       "      <th>2</th>\n",
       "      <td>Senior Associate - Data Science</td>\n",
       "      <td>Black Turtle</td>\n",
       "      <td>4-7 Yrs</td>\n",
       "      <td>Mumbai, Hyderabad/Secunderabad, Gurgaon/Gurugr...</td>\n",
       "    </tr>\n",
       "    <tr>\n",
       "      <th>3</th>\n",
       "      <td>Data Scientist - Machine learning AI</td>\n",
       "      <td>Teq Analytics</td>\n",
       "      <td>3-8 Yrs</td>\n",
       "      <td>Delhi / NCR, Bangalore/Bengaluru, Mumbai (All ...</td>\n",
       "    </tr>\n",
       "    <tr>\n",
       "      <th>4</th>\n",
       "      <td>Data Scientist For Healthcare Product team</td>\n",
       "      <td>SECUREKLOUD TECHNOLOGIES</td>\n",
       "      <td>2-7 Yrs</td>\n",
       "      <td>Delhi / NCR, Chennai, Bangalore/Bengaluru</td>\n",
       "    </tr>\n",
       "    <tr>\n",
       "      <th>5</th>\n",
       "      <td>Data Scientist For Healthcare Product team</td>\n",
       "      <td>SECUREKLOUD TECHNOLOGIES</td>\n",
       "      <td>2-7 Yrs</td>\n",
       "      <td>Delhi / NCR, Chennai, Bangalore/Bengaluru</td>\n",
       "    </tr>\n",
       "    <tr>\n",
       "      <th>6</th>\n",
       "      <td>Data Scientist - MIND Infotech</td>\n",
       "      <td>MOTHERSONSUMI INFOTECH &amp; DESIGNS LIMITED</td>\n",
       "      <td>4-8 Yrs</td>\n",
       "      <td>Noida</td>\n",
       "    </tr>\n",
       "    <tr>\n",
       "      <th>7</th>\n",
       "      <td>Data Scientist - Engine Algorithm</td>\n",
       "      <td>Primo Hiring</td>\n",
       "      <td>1-3 Yrs</td>\n",
       "      <td>Delhi / NCR, Kolkata, Mumbai, Hyderabad/Secund...</td>\n",
       "    </tr>\n",
       "    <tr>\n",
       "      <th>8</th>\n",
       "      <td>Data Science Associate</td>\n",
       "      <td>Kreate Energy</td>\n",
       "      <td>2-4 Yrs</td>\n",
       "      <td>Delhi / NCR(Vaishali)</td>\n",
       "    </tr>\n",
       "    <tr>\n",
       "      <th>9</th>\n",
       "      <td>Data Scientist</td>\n",
       "      <td>Mount Talent Consulting Private Limited</td>\n",
       "      <td>2-4 Yrs</td>\n",
       "      <td>Delhi / NCR, Pune, Bangalore/Bengaluru</td>\n",
       "    </tr>\n",
       "    <tr>\n",
       "      <th>10</th>\n",
       "      <td>Data Scientist</td>\n",
       "      <td>Mount Talent Consulting Private Limited</td>\n",
       "      <td>2-4 Yrs</td>\n",
       "      <td>Delhi / NCR, Pune, Bangalore/Bengaluru</td>\n",
       "    </tr>\n",
       "    <tr>\n",
       "      <th>11</th>\n",
       "      <td>Knowledge/Data Scientist</td>\n",
       "      <td>BOLD Technology Systems</td>\n",
       "      <td>3-6 Yrs</td>\n",
       "      <td>Delhi / NCR</td>\n",
       "    </tr>\n",
       "    <tr>\n",
       "      <th>12</th>\n",
       "      <td>Data Scientist</td>\n",
       "      <td>Sydata Consulting India Pvt Ltd</td>\n",
       "      <td>3-8 Yrs</td>\n",
       "      <td>Delhi / NCR, Bangalore/Bengaluru, Mumbai (All ...</td>\n",
       "    </tr>\n",
       "    <tr>\n",
       "      <th>13</th>\n",
       "      <td>Data Science</td>\n",
       "      <td>Mount Talent Consulting Private Limited</td>\n",
       "      <td>2-5 Yrs</td>\n",
       "      <td>Delhi / NCR, Noida, Faridabad, Gurgaon/Gurugra...</td>\n",
       "    </tr>\n",
       "    <tr>\n",
       "      <th>14</th>\n",
       "      <td>Data Science</td>\n",
       "      <td>Mount Talent Consulting Private Limited</td>\n",
       "      <td>2-5 Yrs</td>\n",
       "      <td>Delhi / NCR, Noida, Faridabad, Gurgaon/Gurugra...</td>\n",
       "    </tr>\n",
       "    <tr>\n",
       "      <th>15</th>\n",
       "      <td>Machine Learning Seniors</td>\n",
       "      <td>Walking Tree Consultancy Services pvt Ltd</td>\n",
       "      <td>2-5 Yrs</td>\n",
       "      <td>Hyderabad/Secunderabad, New Delhi</td>\n",
       "    </tr>\n",
       "    <tr>\n",
       "      <th>16</th>\n",
       "      <td>Data Scientist</td>\n",
       "      <td>Kellton Tech Solutions</td>\n",
       "      <td>3-6 Yrs</td>\n",
       "      <td>Gurgaon/Gurugram</td>\n",
       "    </tr>\n",
       "    <tr>\n",
       "      <th>17</th>\n",
       "      <td>Hiring || Data Scientist || North Delhi || 5.5...</td>\n",
       "      <td>Shriram Automall</td>\n",
       "      <td>4-9 Yrs</td>\n",
       "      <td>Delhi / NCR(Netaji Subhash Place)</td>\n",
       "    </tr>\n",
       "    <tr>\n",
       "      <th>18</th>\n",
       "      <td>Data scientist- Python</td>\n",
       "      <td>TeamPlus Staffing Solution Pvt Ltd</td>\n",
       "      <td>3-6 Yrs</td>\n",
       "      <td>Gurgaon/Gurugram</td>\n",
       "    </tr>\n",
       "    <tr>\n",
       "      <th>19</th>\n",
       "      <td>Dot Net Developer</td>\n",
       "      <td>Nibha Infotech Private Limited</td>\n",
       "      <td>3-8 Yrs</td>\n",
       "      <td>Delhi / NCR, Gurgaon/Gurugram</td>\n",
       "    </tr>\n",
       "  </tbody>\n",
       "</table>\n",
       "</div>"
      ],
      "text/plain": [
       "                                               Titles  \\\n",
       "0                     DigitalBCG GAMMA Data Scientist   \n",
       "1                    Data Scientist - Noida/Bangalore   \n",
       "2                     Senior Associate - Data Science   \n",
       "3                Data Scientist - Machine learning AI   \n",
       "4          Data Scientist For Healthcare Product team   \n",
       "5          Data Scientist For Healthcare Product team   \n",
       "6                      Data Scientist - MIND Infotech   \n",
       "7                   Data Scientist - Engine Algorithm   \n",
       "8                              Data Science Associate   \n",
       "9                                      Data Scientist   \n",
       "10                                     Data Scientist   \n",
       "11                           Knowledge/Data Scientist   \n",
       "12                                     Data Scientist   \n",
       "13                                       Data Science   \n",
       "14                                       Data Science   \n",
       "15                           Machine Learning Seniors   \n",
       "16                                     Data Scientist   \n",
       "17  Hiring || Data Scientist || North Delhi || 5.5...   \n",
       "18                             Data scientist- Python   \n",
       "19                                  Dot Net Developer   \n",
       "\n",
       "                                Company_names Experience_required  \\\n",
       "0                     Boston Consulting Group             2-5 Yrs   \n",
       "1                                         EXL            5-10 Yrs   \n",
       "2                                Black Turtle             4-7 Yrs   \n",
       "3                               Teq Analytics             3-8 Yrs   \n",
       "4                    SECUREKLOUD TECHNOLOGIES             2-7 Yrs   \n",
       "5                    SECUREKLOUD TECHNOLOGIES             2-7 Yrs   \n",
       "6    MOTHERSONSUMI INFOTECH & DESIGNS LIMITED             4-8 Yrs   \n",
       "7                                Primo Hiring             1-3 Yrs   \n",
       "8                               Kreate Energy             2-4 Yrs   \n",
       "9     Mount Talent Consulting Private Limited             2-4 Yrs   \n",
       "10    Mount Talent Consulting Private Limited             2-4 Yrs   \n",
       "11                    BOLD Technology Systems             3-6 Yrs   \n",
       "12            Sydata Consulting India Pvt Ltd             3-8 Yrs   \n",
       "13    Mount Talent Consulting Private Limited             2-5 Yrs   \n",
       "14    Mount Talent Consulting Private Limited             2-5 Yrs   \n",
       "15  Walking Tree Consultancy Services pvt Ltd             2-5 Yrs   \n",
       "16                     Kellton Tech Solutions             3-6 Yrs   \n",
       "17                           Shriram Automall             4-9 Yrs   \n",
       "18         TeamPlus Staffing Solution Pvt Ltd             3-6 Yrs   \n",
       "19             Nibha Infotech Private Limited             3-8 Yrs   \n",
       "\n",
       "                                      Locations_lists  \n",
       "0                      New Delhi, Bangalore/Bengaluru  \n",
       "1                          Noida, Bangalore/Bengaluru  \n",
       "2   Mumbai, Hyderabad/Secunderabad, Gurgaon/Gurugr...  \n",
       "3   Delhi / NCR, Bangalore/Bengaluru, Mumbai (All ...  \n",
       "4           Delhi / NCR, Chennai, Bangalore/Bengaluru  \n",
       "5           Delhi / NCR, Chennai, Bangalore/Bengaluru  \n",
       "6                                               Noida  \n",
       "7   Delhi / NCR, Kolkata, Mumbai, Hyderabad/Secund...  \n",
       "8                               Delhi / NCR(Vaishali)  \n",
       "9              Delhi / NCR, Pune, Bangalore/Bengaluru  \n",
       "10             Delhi / NCR, Pune, Bangalore/Bengaluru  \n",
       "11                                        Delhi / NCR  \n",
       "12  Delhi / NCR, Bangalore/Bengaluru, Mumbai (All ...  \n",
       "13  Delhi / NCR, Noida, Faridabad, Gurgaon/Gurugra...  \n",
       "14  Delhi / NCR, Noida, Faridabad, Gurgaon/Gurugra...  \n",
       "15                  Hyderabad/Secunderabad, New Delhi  \n",
       "16                                   Gurgaon/Gurugram  \n",
       "17                  Delhi / NCR(Netaji Subhash Place)  \n",
       "18                                   Gurgaon/Gurugram  \n",
       "19                      Delhi / NCR, Gurgaon/Gurugram  "
      ]
     },
     "execution_count": 98,
     "metadata": {},
     "output_type": "execute_result"
    }
   ],
   "source": [
    "jobs"
   ]
  },
  {
   "cell_type": "code",
   "execution_count": 1,
   "id": "da105eb5",
   "metadata": {},
   "outputs": [
    {
     "name": "stdout",
     "output_type": "stream",
     "text": [
      "Requirement already satisfied: selenium in c:\\programdata\\anaconda3\\lib\\site-packages (4.2.0)\n",
      "Requirement already satisfied: trio~=0.17 in c:\\programdata\\anaconda3\\lib\\site-packages (from selenium) (0.21.0)\n",
      "Requirement already satisfied: urllib3[secure,socks]~=1.26 in c:\\programdata\\anaconda3\\lib\\site-packages (from selenium) (1.26.7)\n",
      "Requirement already satisfied: trio-websocket~=0.9 in c:\\programdata\\anaconda3\\lib\\site-packages (from selenium) (0.9.2)\n",
      "Requirement already satisfied: async-generator>=1.9 in c:\\programdata\\anaconda3\\lib\\site-packages (from trio~=0.17->selenium) (1.10)\n",
      "Requirement already satisfied: idna in c:\\programdata\\anaconda3\\lib\\site-packages (from trio~=0.17->selenium) (3.2)\n",
      "Requirement already satisfied: sniffio in c:\\programdata\\anaconda3\\lib\\site-packages (from trio~=0.17->selenium) (1.2.0)\n",
      "Requirement already satisfied: attrs>=19.2.0 in c:\\programdata\\anaconda3\\lib\\site-packages (from trio~=0.17->selenium) (21.2.0)\n",
      "Requirement already satisfied: sortedcontainers in c:\\programdata\\anaconda3\\lib\\site-packages (from trio~=0.17->selenium) (2.4.0)\n",
      "Requirement already satisfied: cffi>=1.14 in c:\\programdata\\anaconda3\\lib\\site-packages (from trio~=0.17->selenium) (1.14.6)\n",
      "Requirement already satisfied: outcome in c:\\programdata\\anaconda3\\lib\\site-packages (from trio~=0.17->selenium) (1.2.0)\n",
      "Requirement already satisfied: pycparser in c:\\programdata\\anaconda3\\lib\\site-packages (from cffi>=1.14->trio~=0.17->selenium) (2.20)\n",
      "Requirement already satisfied: wsproto>=0.14 in c:\\programdata\\anaconda3\\lib\\site-packages (from trio-websocket~=0.9->selenium) (1.1.0)\n",
      "Requirement already satisfied: PySocks!=1.5.7,<2.0,>=1.5.6 in c:\\programdata\\anaconda3\\lib\\site-packages (from urllib3[secure,socks]~=1.26->selenium) (1.7.1)\n",
      "Requirement already satisfied: pyOpenSSL>=0.14 in c:\\programdata\\anaconda3\\lib\\site-packages (from urllib3[secure,socks]~=1.26->selenium) (21.0.0)\n",
      "Requirement already satisfied: cryptography>=1.3.4 in c:\\programdata\\anaconda3\\lib\\site-packages (from urllib3[secure,socks]~=1.26->selenium) (3.4.8)\n",
      "Requirement already satisfied: certifi in c:\\programdata\\anaconda3\\lib\\site-packages (from urllib3[secure,socks]~=1.26->selenium) (2021.10.8)\n",
      "Requirement already satisfied: six>=1.5.2 in c:\\programdata\\anaconda3\\lib\\site-packages (from pyOpenSSL>=0.14->urllib3[secure,socks]~=1.26->selenium) (1.16.0)\n",
      "Requirement already satisfied: h11<1,>=0.9.0 in c:\\programdata\\anaconda3\\lib\\site-packages (from wsproto>=0.14->trio-websocket~=0.9->selenium) (0.13.0)\n"
     ]
    }
   ],
   "source": [
    "!pip install selenium"
   ]
  },
  {
   "cell_type": "code",
   "execution_count": 68,
   "id": "d89917fc",
   "metadata": {},
   "outputs": [],
   "source": [
    "import selenium # library is that use to work with selenium\n",
    "import pandas as pd # to create DataFrame\n",
    "from selenium import webdriver # importing webdriver module from selenium to open up automated chrome window\n",
    "import warnings\n",
    "warnings.filterwarnings('ignore') # to ignore any sort of warnings\n",
    "import time #use to stop search engine for few second"
   ]
  },
  {
   "cell_type": "code",
   "execution_count": 69,
   "id": "b5ab2930",
   "metadata": {},
   "outputs": [],
   "source": [
    "# lets first connect to the web driver\n",
    "driver=webdriver.Chrome(r'C:\\Users\\Vikash_info\\chromedriver.exe')"
   ]
  },
  {
   "cell_type": "code",
   "execution_count": 70,
   "id": "7754f38a",
   "metadata": {},
   "outputs": [],
   "source": [
    "driver=webdriver.Chrome('chromedriver.exe')\n",
    "time.sleep(2)"
   ]
  },
  {
   "cell_type": "code",
   "execution_count": 71,
   "id": "4d1c88d6",
   "metadata": {},
   "outputs": [],
   "source": [
    "driver.get(\"https://www.flipkart.com/\")"
   ]
  },
  {
   "cell_type": "code",
   "execution_count": 72,
   "id": "7e0edd24",
   "metadata": {},
   "outputs": [],
   "source": [
    "# finding element job search for\n",
    "search_field_designation=driver.find_element_by_class_name(\"_3704LK\")  #job search for\n",
    "search_field_designation.send_keys('Sunglass')"
   ]
  },
  {
   "cell_type": "code",
   "execution_count": 73,
   "id": "03f88389",
   "metadata": {},
   "outputs": [],
   "source": [
    "search_button=driver.find_element_by_xpath(\"/html/body/div/div/div[1]/div[1]/div[2]/div[2]/form/div/div/input\")\n",
    "search_button.click()"
   ]
  },
  {
   "cell_type": "code",
   "execution_count": 74,
   "id": "7cc7229d",
   "metadata": {},
   "outputs": [],
   "source": [
    "Brand_lists=[]\n",
    "Product_descriptions=[]\n",
    "Price_lists=[]"
   ]
  },
  {
   "cell_type": "code",
   "execution_count": 75,
   "id": "05d89f35",
   "metadata": {},
   "outputs": [
    {
     "data": {
      "text/plain": [
       "[<selenium.webdriver.remote.webelement.WebElement (session=\"98c1904ed15e5c0729b9388ed8e2a731\", element=\"de9173a8-0a74-440d-af47-9a9eaa02ce4a\")>,\n",
       " <selenium.webdriver.remote.webelement.WebElement (session=\"98c1904ed15e5c0729b9388ed8e2a731\", element=\"a922fac6-2dab-4841-9455-ee6f1d24797d\")>,\n",
       " <selenium.webdriver.remote.webelement.WebElement (session=\"98c1904ed15e5c0729b9388ed8e2a731\", element=\"99cfce72-82fe-45fa-a2fe-6833e2e5c1d5\")>,\n",
       " <selenium.webdriver.remote.webelement.WebElement (session=\"98c1904ed15e5c0729b9388ed8e2a731\", element=\"05121687-2775-4c88-9550-64432bf39364\")>,\n",
       " <selenium.webdriver.remote.webelement.WebElement (session=\"98c1904ed15e5c0729b9388ed8e2a731\", element=\"cb81200d-adf0-4e8b-9620-f3f29cac40ec\")>,\n",
       " <selenium.webdriver.remote.webelement.WebElement (session=\"98c1904ed15e5c0729b9388ed8e2a731\", element=\"456a31f3-701a-4cbd-b96b-2669ebc77a59\")>,\n",
       " <selenium.webdriver.remote.webelement.WebElement (session=\"98c1904ed15e5c0729b9388ed8e2a731\", element=\"d6a3bfbb-2789-4149-a806-84b5c5872a2a\")>,\n",
       " <selenium.webdriver.remote.webelement.WebElement (session=\"98c1904ed15e5c0729b9388ed8e2a731\", element=\"87d69892-c404-425e-b12c-dcc5807698ef\")>,\n",
       " <selenium.webdriver.remote.webelement.WebElement (session=\"98c1904ed15e5c0729b9388ed8e2a731\", element=\"0bc3cc1f-e0a5-4457-ac66-e2e0b018fcac\")>,\n",
       " <selenium.webdriver.remote.webelement.WebElement (session=\"98c1904ed15e5c0729b9388ed8e2a731\", element=\"7acad8bc-80c5-46df-af26-2112df53aee8\")>,\n",
       " <selenium.webdriver.remote.webelement.WebElement (session=\"98c1904ed15e5c0729b9388ed8e2a731\", element=\"5008b803-c4bd-42f2-b411-91eb69a94b51\")>,\n",
       " <selenium.webdriver.remote.webelement.WebElement (session=\"98c1904ed15e5c0729b9388ed8e2a731\", element=\"9bc8196a-ec14-493c-9216-45b48f7a85e5\")>,\n",
       " <selenium.webdriver.remote.webelement.WebElement (session=\"98c1904ed15e5c0729b9388ed8e2a731\", element=\"4d9544f3-3712-411c-a1b1-5569ce18d52d\")>,\n",
       " <selenium.webdriver.remote.webelement.WebElement (session=\"98c1904ed15e5c0729b9388ed8e2a731\", element=\"9fb83912-ff65-44dc-9283-176b15c07d4b\")>,\n",
       " <selenium.webdriver.remote.webelement.WebElement (session=\"98c1904ed15e5c0729b9388ed8e2a731\", element=\"f3dc1e3b-8a3b-4c8a-a070-b1e66018072e\")>,\n",
       " <selenium.webdriver.remote.webelement.WebElement (session=\"98c1904ed15e5c0729b9388ed8e2a731\", element=\"7d13e570-b074-4ef6-93c5-02a3e2d81bc9\")>,\n",
       " <selenium.webdriver.remote.webelement.WebElement (session=\"98c1904ed15e5c0729b9388ed8e2a731\", element=\"1a42d8da-4cdb-4e7c-9120-ce7c45ba1b99\")>,\n",
       " <selenium.webdriver.remote.webelement.WebElement (session=\"98c1904ed15e5c0729b9388ed8e2a731\", element=\"5ad44f5a-5267-4876-94ec-4d81856999f0\")>,\n",
       " <selenium.webdriver.remote.webelement.WebElement (session=\"98c1904ed15e5c0729b9388ed8e2a731\", element=\"96f31b85-b29f-41fc-91be-62e404024ce6\")>,\n",
       " <selenium.webdriver.remote.webelement.WebElement (session=\"98c1904ed15e5c0729b9388ed8e2a731\", element=\"f3a9262c-6aae-4e77-b20a-9742fea47c16\")>,\n",
       " <selenium.webdriver.remote.webelement.WebElement (session=\"98c1904ed15e5c0729b9388ed8e2a731\", element=\"506c1b50-cb00-4f75-a680-5db56d54c244\")>,\n",
       " <selenium.webdriver.remote.webelement.WebElement (session=\"98c1904ed15e5c0729b9388ed8e2a731\", element=\"f638d3a2-f6c0-42f7-948f-3b8bfd15ca63\")>,\n",
       " <selenium.webdriver.remote.webelement.WebElement (session=\"98c1904ed15e5c0729b9388ed8e2a731\", element=\"1d711ff9-fe83-4b05-bd65-c6e1404c57fc\")>,\n",
       " <selenium.webdriver.remote.webelement.WebElement (session=\"98c1904ed15e5c0729b9388ed8e2a731\", element=\"2abb1570-f431-48c8-86d4-6a5931c377b5\")>,\n",
       " <selenium.webdriver.remote.webelement.WebElement (session=\"98c1904ed15e5c0729b9388ed8e2a731\", element=\"121a1ca6-351e-48d3-8cd8-16bdc8875a18\")>,\n",
       " <selenium.webdriver.remote.webelement.WebElement (session=\"98c1904ed15e5c0729b9388ed8e2a731\", element=\"84785f82-665f-4011-a73a-44d116260f0a\")>,\n",
       " <selenium.webdriver.remote.webelement.WebElement (session=\"98c1904ed15e5c0729b9388ed8e2a731\", element=\"bfe41b84-cdc9-4056-ae0a-7cfaaf0908f6\")>,\n",
       " <selenium.webdriver.remote.webelement.WebElement (session=\"98c1904ed15e5c0729b9388ed8e2a731\", element=\"711a9b6e-1085-47e1-9023-389056eaef46\")>,\n",
       " <selenium.webdriver.remote.webelement.WebElement (session=\"98c1904ed15e5c0729b9388ed8e2a731\", element=\"eb45ffe4-7ce5-44ad-8ca2-4826ce277a7d\")>,\n",
       " <selenium.webdriver.remote.webelement.WebElement (session=\"98c1904ed15e5c0729b9388ed8e2a731\", element=\"681ac8fd-44f1-4bfe-825e-f397c0941959\")>,\n",
       " <selenium.webdriver.remote.webelement.WebElement (session=\"98c1904ed15e5c0729b9388ed8e2a731\", element=\"59708b0f-e111-4a23-815c-b2d5369a5cdb\")>,\n",
       " <selenium.webdriver.remote.webelement.WebElement (session=\"98c1904ed15e5c0729b9388ed8e2a731\", element=\"1a7918c6-6980-4e2c-a60b-0332d4e51b61\")>,\n",
       " <selenium.webdriver.remote.webelement.WebElement (session=\"98c1904ed15e5c0729b9388ed8e2a731\", element=\"4c437d74-6200-415f-8d6d-352b4a45e180\")>,\n",
       " <selenium.webdriver.remote.webelement.WebElement (session=\"98c1904ed15e5c0729b9388ed8e2a731\", element=\"2d948094-fb38-4341-8407-deb2e8842934\")>,\n",
       " <selenium.webdriver.remote.webelement.WebElement (session=\"98c1904ed15e5c0729b9388ed8e2a731\", element=\"8bd9de84-d0ba-42a7-b9c7-f6d177292540\")>,\n",
       " <selenium.webdriver.remote.webelement.WebElement (session=\"98c1904ed15e5c0729b9388ed8e2a731\", element=\"a33eda69-d2c6-433e-80f5-5fc2a7b254ff\")>,\n",
       " <selenium.webdriver.remote.webelement.WebElement (session=\"98c1904ed15e5c0729b9388ed8e2a731\", element=\"257922ee-b535-4602-8e33-518403e1293a\")>,\n",
       " <selenium.webdriver.remote.webelement.WebElement (session=\"98c1904ed15e5c0729b9388ed8e2a731\", element=\"1c83f3ce-4da2-4d60-9b23-1846d4e9e1a6\")>,\n",
       " <selenium.webdriver.remote.webelement.WebElement (session=\"98c1904ed15e5c0729b9388ed8e2a731\", element=\"2e10f050-69e5-4bdc-8b8e-bc9588374394\")>,\n",
       " <selenium.webdriver.remote.webelement.WebElement (session=\"98c1904ed15e5c0729b9388ed8e2a731\", element=\"05aeaafb-7767-4fc9-8e13-add9c6176783\")>]"
      ]
     },
     "execution_count": 75,
     "metadata": {},
     "output_type": "execute_result"
    }
   ],
   "source": [
    "#so lets extract all tags having the Brand titles\n",
    "titles_tags=driver.find_elements_by_xpath(\"//div[@class='_2WkVRV']\") #locatiing web element of titles \n",
    "titles_tags[0:100]"
   ]
  },
  {
   "cell_type": "code",
   "execution_count": 76,
   "id": "1810f8a3",
   "metadata": {},
   "outputs": [
    {
     "data": {
      "text/plain": [
       "['VINCENT CHASE',\n",
       " 'ROYAL SON',\n",
       " 'DAHAAZIL',\n",
       " 'Elligator',\n",
       " 'New Specs',\n",
       " 'PIRASO',\n",
       " 'SUNBEE',\n",
       " 'VINCENT CHASE',\n",
       " 'Fastrack',\n",
       " 'Fastrack',\n",
       " 'PIRASO',\n",
       " 'ROZZETTA CRAFT',\n",
       " 'ROZZETTA CRAFT',\n",
       " 'PIRASO',\n",
       " 'SRPM',\n",
       " 'Roadster',\n",
       " 'PIRASO',\n",
       " 'Fastrack',\n",
       " 'New Specs',\n",
       " 'VINCENT CHASE',\n",
       " 'Lee Topper',\n",
       " 'PIRASO',\n",
       " 'CRYSTAL CART',\n",
       " 'GANSTA',\n",
       " 'SHAAH COLLECTIONS',\n",
       " 'SHAAH COLLECTIONS',\n",
       " 'Lee Topper',\n",
       " 'ROYAL SON',\n",
       " 'ROZZETTA CRAFT',\n",
       " 'ROZZETTA CRAFT',\n",
       " 'kingsunglasses',\n",
       " 'ROYAL SON',\n",
       " 'HAMIW COLLECTION',\n",
       " 'SUNBEE',\n",
       " 'Fastrack',\n",
       " 'Sewell',\n",
       " 'Lee Topper',\n",
       " 'ROZZETTA CRAFT',\n",
       " 'CRYSTAL CART',\n",
       " 'ROYAL SON']"
      ]
     },
     "execution_count": 76,
     "metadata": {},
     "output_type": "execute_result"
    }
   ],
   "source": [
    "#we run a loop to iterate over the tags extracted above and extract the text inside them \n",
    "for i in titles_tags:  #iterating over web element of title\n",
    "    Brand_list=i.text    #extracting text from web each element\n",
    "    Brand_lists.append(Brand_list)  # appending each extected text into empty list\n",
    "\n",
    "Brand_lists[0:100]    #printing top 100 data"
   ]
  },
  {
   "cell_type": "code",
   "execution_count": 77,
   "id": "0c2cdb87",
   "metadata": {},
   "outputs": [
    {
     "data": {
      "text/plain": [
       "40"
      ]
     },
     "execution_count": 77,
     "metadata": {},
     "output_type": "execute_result"
    }
   ],
   "source": [
    "len(Brand_lists)"
   ]
  },
  {
   "cell_type": "code",
   "execution_count": 78,
   "id": "a2d14935",
   "metadata": {},
   "outputs": [
    {
     "data": {
      "text/plain": [
       "[<selenium.webdriver.remote.webelement.WebElement (session=\"98c1904ed15e5c0729b9388ed8e2a731\", element=\"c88d1e08-0552-4328-a7ae-a15307f0c8e8\")>,\n",
       " <selenium.webdriver.remote.webelement.WebElement (session=\"98c1904ed15e5c0729b9388ed8e2a731\", element=\"023391b0-0ede-4526-983c-0222cf812098\")>,\n",
       " <selenium.webdriver.remote.webelement.WebElement (session=\"98c1904ed15e5c0729b9388ed8e2a731\", element=\"5c7a628d-2d08-4176-a35a-90b3adc3a527\")>,\n",
       " <selenium.webdriver.remote.webelement.WebElement (session=\"98c1904ed15e5c0729b9388ed8e2a731\", element=\"e0eb9676-f46d-4a0f-81bd-c89548b022b4\")>,\n",
       " <selenium.webdriver.remote.webelement.WebElement (session=\"98c1904ed15e5c0729b9388ed8e2a731\", element=\"3f22d83b-bf62-4e8a-a61c-d888bb78c59f\")>,\n",
       " <selenium.webdriver.remote.webelement.WebElement (session=\"98c1904ed15e5c0729b9388ed8e2a731\", element=\"f358ffa0-e45c-4b60-bb0d-bcf64caae978\")>,\n",
       " <selenium.webdriver.remote.webelement.WebElement (session=\"98c1904ed15e5c0729b9388ed8e2a731\", element=\"18a30658-8d82-42d4-95c9-80171e88c7f8\")>,\n",
       " <selenium.webdriver.remote.webelement.WebElement (session=\"98c1904ed15e5c0729b9388ed8e2a731\", element=\"99c71494-d996-4153-b1a1-b9635ff9d866\")>,\n",
       " <selenium.webdriver.remote.webelement.WebElement (session=\"98c1904ed15e5c0729b9388ed8e2a731\", element=\"2fc116a7-bb3a-4d00-9f0d-6eda119c5979\")>,\n",
       " <selenium.webdriver.remote.webelement.WebElement (session=\"98c1904ed15e5c0729b9388ed8e2a731\", element=\"4bea7867-0cca-4f3d-8c7e-c993799dec38\")>,\n",
       " <selenium.webdriver.remote.webelement.WebElement (session=\"98c1904ed15e5c0729b9388ed8e2a731\", element=\"c31c27ac-8be3-45dd-bd38-d667003a657a\")>,\n",
       " <selenium.webdriver.remote.webelement.WebElement (session=\"98c1904ed15e5c0729b9388ed8e2a731\", element=\"1bbfdf36-3787-4b14-be79-1112338293ad\")>,\n",
       " <selenium.webdriver.remote.webelement.WebElement (session=\"98c1904ed15e5c0729b9388ed8e2a731\", element=\"6e816d13-9325-4321-b098-db9e79b50a0f\")>,\n",
       " <selenium.webdriver.remote.webelement.WebElement (session=\"98c1904ed15e5c0729b9388ed8e2a731\", element=\"e1074e13-d273-4eaf-8f52-ff57d29226ad\")>,\n",
       " <selenium.webdriver.remote.webelement.WebElement (session=\"98c1904ed15e5c0729b9388ed8e2a731\", element=\"07c60722-538e-4899-8ab9-c1d037b3a8cb\")>,\n",
       " <selenium.webdriver.remote.webelement.WebElement (session=\"98c1904ed15e5c0729b9388ed8e2a731\", element=\"0760692c-6584-40a7-9fdb-1fbe59f4202f\")>,\n",
       " <selenium.webdriver.remote.webelement.WebElement (session=\"98c1904ed15e5c0729b9388ed8e2a731\", element=\"ac1688cd-b895-4ef5-8935-c7f34cfcf4bf\")>,\n",
       " <selenium.webdriver.remote.webelement.WebElement (session=\"98c1904ed15e5c0729b9388ed8e2a731\", element=\"7138feb5-9756-4a3d-a3ae-cba4a42e17f4\")>,\n",
       " <selenium.webdriver.remote.webelement.WebElement (session=\"98c1904ed15e5c0729b9388ed8e2a731\", element=\"38f0dd89-114c-4bcb-966d-c00a82696763\")>,\n",
       " <selenium.webdriver.remote.webelement.WebElement (session=\"98c1904ed15e5c0729b9388ed8e2a731\", element=\"5e1f74fc-1f90-42e7-bbc4-c244211be88c\")>,\n",
       " <selenium.webdriver.remote.webelement.WebElement (session=\"98c1904ed15e5c0729b9388ed8e2a731\", element=\"8e6e1438-413f-4b66-9abd-ce371884f191\")>,\n",
       " <selenium.webdriver.remote.webelement.WebElement (session=\"98c1904ed15e5c0729b9388ed8e2a731\", element=\"3bc36785-5369-41b3-b224-86f8a722ba0a\")>,\n",
       " <selenium.webdriver.remote.webelement.WebElement (session=\"98c1904ed15e5c0729b9388ed8e2a731\", element=\"44444d8e-8a3a-4764-8820-ee397f0f42d7\")>,\n",
       " <selenium.webdriver.remote.webelement.WebElement (session=\"98c1904ed15e5c0729b9388ed8e2a731\", element=\"bb342abc-e7e9-4906-a40e-b80f395f56d0\")>,\n",
       " <selenium.webdriver.remote.webelement.WebElement (session=\"98c1904ed15e5c0729b9388ed8e2a731\", element=\"1cd1fe5f-93f5-4796-b661-f9b2bc60b5aa\")>,\n",
       " <selenium.webdriver.remote.webelement.WebElement (session=\"98c1904ed15e5c0729b9388ed8e2a731\", element=\"eb8cdb85-ccbb-4d07-8760-a8cc03f9e9fe\")>,\n",
       " <selenium.webdriver.remote.webelement.WebElement (session=\"98c1904ed15e5c0729b9388ed8e2a731\", element=\"2bdfd488-2a71-43b0-9279-048d9f8cf4fd\")>,\n",
       " <selenium.webdriver.remote.webelement.WebElement (session=\"98c1904ed15e5c0729b9388ed8e2a731\", element=\"4773bf43-f7bc-432b-a0a3-beac79aa609d\")>,\n",
       " <selenium.webdriver.remote.webelement.WebElement (session=\"98c1904ed15e5c0729b9388ed8e2a731\", element=\"ef692c82-14ba-4e24-88a1-0c0f0b489731\")>,\n",
       " <selenium.webdriver.remote.webelement.WebElement (session=\"98c1904ed15e5c0729b9388ed8e2a731\", element=\"489dc129-3059-483a-b261-ba3680124bb2\")>,\n",
       " <selenium.webdriver.remote.webelement.WebElement (session=\"98c1904ed15e5c0729b9388ed8e2a731\", element=\"9e9bff7b-1275-4851-87b5-f3e154dfecd5\")>,\n",
       " <selenium.webdriver.remote.webelement.WebElement (session=\"98c1904ed15e5c0729b9388ed8e2a731\", element=\"28700c87-01ae-4069-bf82-2655bd4ba300\")>,\n",
       " <selenium.webdriver.remote.webelement.WebElement (session=\"98c1904ed15e5c0729b9388ed8e2a731\", element=\"4cbe8a2e-422f-4bce-bdd3-0751615b3cfd\")>,\n",
       " <selenium.webdriver.remote.webelement.WebElement (session=\"98c1904ed15e5c0729b9388ed8e2a731\", element=\"4cdea953-0564-4409-a927-5c86316d6ce6\")>,\n",
       " <selenium.webdriver.remote.webelement.WebElement (session=\"98c1904ed15e5c0729b9388ed8e2a731\", element=\"f53f50ee-5ea6-43c9-acd4-f3bb260253d4\")>,\n",
       " <selenium.webdriver.remote.webelement.WebElement (session=\"98c1904ed15e5c0729b9388ed8e2a731\", element=\"4d5f9d63-3f5a-409d-8e06-a7273e5f05fa\")>,\n",
       " <selenium.webdriver.remote.webelement.WebElement (session=\"98c1904ed15e5c0729b9388ed8e2a731\", element=\"618eeb41-2d8f-4a9b-b18c-59d606b3a71a\")>,\n",
       " <selenium.webdriver.remote.webelement.WebElement (session=\"98c1904ed15e5c0729b9388ed8e2a731\", element=\"741f5619-757a-4a8f-b9bc-549705a3083c\")>,\n",
       " <selenium.webdriver.remote.webelement.WebElement (session=\"98c1904ed15e5c0729b9388ed8e2a731\", element=\"c04fc25b-8c49-48be-bfb0-7ef13ed1493d\")>,\n",
       " <selenium.webdriver.remote.webelement.WebElement (session=\"98c1904ed15e5c0729b9388ed8e2a731\", element=\"efe5f436-9658-4057-814c-902188665ae9\")>]"
      ]
     },
     "execution_count": 78,
     "metadata": {},
     "output_type": "execute_result"
    }
   ],
   "source": [
    "# now let me extract all the tags having product description\n",
    "Products_tags=driver.find_elements_by_xpath(\"//a[@class='IRpwTa']\") #locatiing web element of titles \n",
    "Products_tags[0:100]"
   ]
  },
  {
   "cell_type": "code",
   "execution_count": 79,
   "id": "6761b774",
   "metadata": {},
   "outputs": [
    {
     "data": {
      "text/plain": [
       "['UV Protection Rectangular Sunglasses (52)',\n",
       " 'Polarized Retro Square Sunglasses (61)',\n",
       " 'UV Protection, Night Vision, Riding Glasses Wayfarer, W...',\n",
       " 'UV Protection Round Sunglasses (54)',\n",
       " 'UV Protection Rectangular Sunglasses (Free Size)',\n",
       " 'UV Protection Aviator Sunglasses (54)',\n",
       " 'UV Protection, Polarized Wayfarer Sunglasses (Free Size...',\n",
       " 'by Lenskart UV Protection Wayfarer Sunglasses (51)',\n",
       " 'UV Protection Rectangular Sunglasses (Free Size)',\n",
       " 'UV Protection Wayfarer Sunglasses (Free Size)',\n",
       " 'UV Protection Aviator Sunglasses (58)',\n",
       " 'UV Protection, Gradient Retro Square Sunglasses (62)',\n",
       " 'Polarized, Riding Glasses Sports, Wrap-around Sunglasse...',\n",
       " 'UV Protection Aviator Sunglasses (54)',\n",
       " 'UV Protection Wayfarer Sunglasses (50)',\n",
       " 'Others Aviator Sunglasses (Free Size)',\n",
       " 'UV Protection Aviator Sunglasses (54)',\n",
       " 'UV Protection Aviator Sunglasses (Free Size)',\n",
       " 'UV Protection Rectangular Sunglasses (Free Size)',\n",
       " 'by Lenskart UV Protection Rectangular Sunglasses (54)',\n",
       " 'Riding Glasses Wrap-around Sunglasses (Free Size)',\n",
       " 'UV Protection Wayfarer Sunglasses (32)',\n",
       " 'Mirrored, Night Vision Oval Sunglasses (Free Size)',\n",
       " 'UV Protection Aviator Sunglasses (57)',\n",
       " 'UV Protection, Polarized, Mirrored Rectangular Sunglass...',\n",
       " 'UV Protection Round Sunglasses (Free Size)',\n",
       " 'UV Protection Cat-eye Sunglasses (Free Size)',\n",
       " 'UV Protection, Polarized Wayfarer Sunglasses (54)',\n",
       " 'UV Protection, Gradient Retro Square Sunglasses (Free S...',\n",
       " 'UV Protection Rectangular Sunglasses (Free Size)',\n",
       " 'UV Protection, Riding Glasses, Mirrored Wayfarer Sungla...',\n",
       " 'Polarized, UV Protection Wrap-around Sunglasses (62)',\n",
       " 'UV Protection Round Sunglasses (53)',\n",
       " 'UV Protection, Polarized, Mirrored Retro Square Sunglas...',\n",
       " 'UV Protection Shield Sunglasses (Free Size)',\n",
       " 'Polarized Butterfly Sunglasses (Free Size)',\n",
       " 'UV Protection Rectangular Sunglasses (Free Size)',\n",
       " 'UV Protection, Gradient Rectangular Sunglasses (Free Si...',\n",
       " 'Polarized, UV Protection, Mirrored, Gradient Rectangula...',\n",
       " 'Polarized, UV Protection Retro Square Sunglasses (62)']"
      ]
     },
     "execution_count": 79,
     "metadata": {},
     "output_type": "execute_result"
    }
   ],
   "source": [
    "for i in Products_tags: #iterating over web element of title\n",
    "    Product_description=i.text    #extracting text from web each element\n",
    "    Product_descriptions.append(Product_description)   # appending each extected text into empty list\n",
    "Product_descriptions[0:100]  #printing top 100 data"
   ]
  },
  {
   "cell_type": "code",
   "execution_count": 80,
   "id": "18998862",
   "metadata": {},
   "outputs": [
    {
     "data": {
      "text/plain": [
       "40"
      ]
     },
     "execution_count": 80,
     "metadata": {},
     "output_type": "execute_result"
    }
   ],
   "source": [
    "len(Product_descriptions)"
   ]
  },
  {
   "cell_type": "code",
   "execution_count": 81,
   "id": "c5ea606f",
   "metadata": {},
   "outputs": [
    {
     "data": {
      "text/plain": [
       "[<selenium.webdriver.remote.webelement.WebElement (session=\"98c1904ed15e5c0729b9388ed8e2a731\", element=\"7078e55b-361f-467a-890a-0d765f364217\")>,\n",
       " <selenium.webdriver.remote.webelement.WebElement (session=\"98c1904ed15e5c0729b9388ed8e2a731\", element=\"84ab6d92-0181-46f5-977a-fe6c31784216\")>,\n",
       " <selenium.webdriver.remote.webelement.WebElement (session=\"98c1904ed15e5c0729b9388ed8e2a731\", element=\"e620f15c-7566-472d-b334-d2bdf8b248f5\")>,\n",
       " <selenium.webdriver.remote.webelement.WebElement (session=\"98c1904ed15e5c0729b9388ed8e2a731\", element=\"e8a9c51d-ca38-4e3f-94f1-e6c435d8a893\")>,\n",
       " <selenium.webdriver.remote.webelement.WebElement (session=\"98c1904ed15e5c0729b9388ed8e2a731\", element=\"f8b5d906-a1a2-43ca-8e74-6e8bcf63fe85\")>,\n",
       " <selenium.webdriver.remote.webelement.WebElement (session=\"98c1904ed15e5c0729b9388ed8e2a731\", element=\"28dc910c-a3b0-4b84-b3b7-eace6d35cf6b\")>,\n",
       " <selenium.webdriver.remote.webelement.WebElement (session=\"98c1904ed15e5c0729b9388ed8e2a731\", element=\"33bb054d-158b-4c1c-8ccb-cde5c172869f\")>,\n",
       " <selenium.webdriver.remote.webelement.WebElement (session=\"98c1904ed15e5c0729b9388ed8e2a731\", element=\"88b40662-aef5-478e-9617-f068b3728b93\")>,\n",
       " <selenium.webdriver.remote.webelement.WebElement (session=\"98c1904ed15e5c0729b9388ed8e2a731\", element=\"b0edeedb-980d-492e-b009-512bdc6f1a17\")>,\n",
       " <selenium.webdriver.remote.webelement.WebElement (session=\"98c1904ed15e5c0729b9388ed8e2a731\", element=\"8b076196-e917-4b55-82a6-05fcd981c0fe\")>,\n",
       " <selenium.webdriver.remote.webelement.WebElement (session=\"98c1904ed15e5c0729b9388ed8e2a731\", element=\"771000af-6d43-4cab-a8fe-2a575b5150d7\")>,\n",
       " <selenium.webdriver.remote.webelement.WebElement (session=\"98c1904ed15e5c0729b9388ed8e2a731\", element=\"0b25009d-fd7b-4991-bdf5-a18fd6158e7b\")>,\n",
       " <selenium.webdriver.remote.webelement.WebElement (session=\"98c1904ed15e5c0729b9388ed8e2a731\", element=\"dbe305b5-e565-4690-b1f9-dbceae70f88c\")>,\n",
       " <selenium.webdriver.remote.webelement.WebElement (session=\"98c1904ed15e5c0729b9388ed8e2a731\", element=\"5352c244-a99a-4a89-8f58-9a96b501a2fd\")>,\n",
       " <selenium.webdriver.remote.webelement.WebElement (session=\"98c1904ed15e5c0729b9388ed8e2a731\", element=\"7e34edf6-0cef-4b5e-86b3-9e766e88aea0\")>,\n",
       " <selenium.webdriver.remote.webelement.WebElement (session=\"98c1904ed15e5c0729b9388ed8e2a731\", element=\"e0a687fc-0a14-42f1-b98e-11c3b9eb0748\")>,\n",
       " <selenium.webdriver.remote.webelement.WebElement (session=\"98c1904ed15e5c0729b9388ed8e2a731\", element=\"eff437b8-6ba4-44dc-b424-1b0ac88e0390\")>,\n",
       " <selenium.webdriver.remote.webelement.WebElement (session=\"98c1904ed15e5c0729b9388ed8e2a731\", element=\"e4a5b7a0-4bdc-467e-84b9-c2cc7df513cd\")>,\n",
       " <selenium.webdriver.remote.webelement.WebElement (session=\"98c1904ed15e5c0729b9388ed8e2a731\", element=\"ab5a94a6-6915-45d4-a4ea-bff2e5d8374d\")>,\n",
       " <selenium.webdriver.remote.webelement.WebElement (session=\"98c1904ed15e5c0729b9388ed8e2a731\", element=\"cc9d9668-6ece-4d05-997d-dc00dc8cf779\")>,\n",
       " <selenium.webdriver.remote.webelement.WebElement (session=\"98c1904ed15e5c0729b9388ed8e2a731\", element=\"250cfd9d-a3eb-4675-8929-ca68277bada7\")>,\n",
       " <selenium.webdriver.remote.webelement.WebElement (session=\"98c1904ed15e5c0729b9388ed8e2a731\", element=\"af520e95-ba7c-4cbd-b880-ef67ffd460c8\")>,\n",
       " <selenium.webdriver.remote.webelement.WebElement (session=\"98c1904ed15e5c0729b9388ed8e2a731\", element=\"17b95258-222a-4a7f-8d3e-cb19ef0ff3a0\")>,\n",
       " <selenium.webdriver.remote.webelement.WebElement (session=\"98c1904ed15e5c0729b9388ed8e2a731\", element=\"43c15400-2a06-4216-9a82-6303fdae48b2\")>,\n",
       " <selenium.webdriver.remote.webelement.WebElement (session=\"98c1904ed15e5c0729b9388ed8e2a731\", element=\"4cb58735-ef18-4168-a408-8f73dba0564a\")>,\n",
       " <selenium.webdriver.remote.webelement.WebElement (session=\"98c1904ed15e5c0729b9388ed8e2a731\", element=\"ab8f1988-8c80-4279-ba8f-27d4db534d0a\")>,\n",
       " <selenium.webdriver.remote.webelement.WebElement (session=\"98c1904ed15e5c0729b9388ed8e2a731\", element=\"6780742e-3664-41e5-8004-ac2e362c599b\")>,\n",
       " <selenium.webdriver.remote.webelement.WebElement (session=\"98c1904ed15e5c0729b9388ed8e2a731\", element=\"5ad77582-3191-4d10-af9d-f87bbd90f71d\")>,\n",
       " <selenium.webdriver.remote.webelement.WebElement (session=\"98c1904ed15e5c0729b9388ed8e2a731\", element=\"46e5c5e2-4eb5-455c-b6b3-2693a9ed3915\")>,\n",
       " <selenium.webdriver.remote.webelement.WebElement (session=\"98c1904ed15e5c0729b9388ed8e2a731\", element=\"d02813c6-0416-43cd-88d1-4e257d4048cc\")>,\n",
       " <selenium.webdriver.remote.webelement.WebElement (session=\"98c1904ed15e5c0729b9388ed8e2a731\", element=\"bb530f15-b752-4736-b3fa-333be55ed6d7\")>,\n",
       " <selenium.webdriver.remote.webelement.WebElement (session=\"98c1904ed15e5c0729b9388ed8e2a731\", element=\"87221e37-4442-4152-bc95-f73be1569f8e\")>,\n",
       " <selenium.webdriver.remote.webelement.WebElement (session=\"98c1904ed15e5c0729b9388ed8e2a731\", element=\"09cdd3bf-e3d8-460d-bfdf-5649a428c1b4\")>,\n",
       " <selenium.webdriver.remote.webelement.WebElement (session=\"98c1904ed15e5c0729b9388ed8e2a731\", element=\"44f68355-295f-4247-8f30-12360a3e86dd\")>,\n",
       " <selenium.webdriver.remote.webelement.WebElement (session=\"98c1904ed15e5c0729b9388ed8e2a731\", element=\"2af14182-e3e8-4d85-b0c3-8cf51613ae78\")>,\n",
       " <selenium.webdriver.remote.webelement.WebElement (session=\"98c1904ed15e5c0729b9388ed8e2a731\", element=\"149d8fd6-4932-4768-9d4d-ec401244c73d\")>,\n",
       " <selenium.webdriver.remote.webelement.WebElement (session=\"98c1904ed15e5c0729b9388ed8e2a731\", element=\"a10b1fdc-fbde-4f19-b906-576d9e81158d\")>,\n",
       " <selenium.webdriver.remote.webelement.WebElement (session=\"98c1904ed15e5c0729b9388ed8e2a731\", element=\"8679a732-9ed5-4aa2-aaf3-0777a38e0d47\")>,\n",
       " <selenium.webdriver.remote.webelement.WebElement (session=\"98c1904ed15e5c0729b9388ed8e2a731\", element=\"7ce03a92-d45f-4563-95cd-a9cacee52bf9\")>,\n",
       " <selenium.webdriver.remote.webelement.WebElement (session=\"98c1904ed15e5c0729b9388ed8e2a731\", element=\"964261a0-f54a-4511-9634-f5c0508af845\")>]"
      ]
     },
     "execution_count": 81,
     "metadata": {},
     "output_type": "execute_result"
    }
   ],
   "source": [
    "Prices_tags=driver.find_elements_by_xpath(\"//div[@class='_30jeq3']\")\n",
    "Prices_tags[0:100]"
   ]
  },
  {
   "cell_type": "code",
   "execution_count": 82,
   "id": "2df4aef0",
   "metadata": {},
   "outputs": [
    {
     "data": {
      "text/plain": [
       "['₹649',\n",
       " '₹699',\n",
       " '₹177',\n",
       " '₹298',\n",
       " '₹264',\n",
       " '₹249',\n",
       " '₹283',\n",
       " '₹749',\n",
       " '₹639',\n",
       " '₹719',\n",
       " '₹359',\n",
       " '₹474',\n",
       " '₹474',\n",
       " '₹249',\n",
       " '₹211',\n",
       " '₹649',\n",
       " '₹246',\n",
       " '₹639',\n",
       " '₹154',\n",
       " '₹749',\n",
       " '₹299',\n",
       " '₹226',\n",
       " '₹189',\n",
       " '₹314',\n",
       " '₹195',\n",
       " '₹289',\n",
       " '₹229',\n",
       " '₹759',\n",
       " '₹331',\n",
       " '₹303',\n",
       " '₹213',\n",
       " '₹759',\n",
       " '₹199',\n",
       " '₹259',\n",
       " '₹719',\n",
       " '₹616',\n",
       " '₹219',\n",
       " '₹379',\n",
       " '₹529',\n",
       " '₹854']"
      ]
     },
     "execution_count": 82,
     "metadata": {},
     "output_type": "execute_result"
    }
   ],
   "source": [
    "for i in Prices_tags:    #iterating over web element of title\n",
    "    Price_list=i.text      #extracting text from web each element\n",
    "    Price_lists.append(Price_list)    # appending each extected text into empty list\n",
    "Price_lists[0:100]     #printing top 100 data"
   ]
  },
  {
   "cell_type": "code",
   "execution_count": 83,
   "id": "5009a03a",
   "metadata": {},
   "outputs": [
    {
     "data": {
      "text/plain": [
       "40"
      ]
     },
     "execution_count": 83,
     "metadata": {},
     "output_type": "execute_result"
    }
   ],
   "source": [
    "len(Price_lists)"
   ]
  },
  {
   "cell_type": "code",
   "execution_count": 91,
   "id": "11c218a4",
   "metadata": {},
   "outputs": [],
   "source": [
    "next_button=driver.find_elements_by_xpath(\"//a[@class='_1LKTO3']\")"
   ]
  },
  {
   "cell_type": "code",
   "execution_count": null,
   "id": "2f83b434",
   "metadata": {},
   "outputs": [],
   "source": []
  },
  {
   "cell_type": "code",
   "execution_count": null,
   "id": "e1db376e",
   "metadata": {},
   "outputs": [],
   "source": []
  }
 ],
 "metadata": {
  "kernelspec": {
   "display_name": "Python 3 (ipykernel)",
   "language": "python",
   "name": "python3"
  },
  "language_info": {
   "codemirror_mode": {
    "name": "ipython",
    "version": 3
   },
   "file_extension": ".py",
   "mimetype": "text/x-python",
   "name": "python",
   "nbconvert_exporter": "python",
   "pygments_lexer": "ipython3",
   "version": "3.9.7"
  }
 },
 "nbformat": 4,
 "nbformat_minor": 5
}
